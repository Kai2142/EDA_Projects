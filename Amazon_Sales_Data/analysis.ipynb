{
 "cells": [
  {
   "metadata": {},
   "cell_type": "markdown",
   "source": "Aim: Identify which product from each category has the most positive customer feedback",
   "id": "27a8f918b3b32215"
  },
  {
   "metadata": {},
   "cell_type": "markdown",
   "source": "Import Libraries\n",
   "id": "7a4ed657b8d3ce8d"
  },
  {
   "metadata": {
    "ExecuteTime": {
     "end_time": "2024-04-16T05:55:17.065060Z",
     "start_time": "2024-04-16T05:55:17.061971Z"
    }
   },
   "cell_type": "code",
   "source": [
    "import pandas as pd\n",
    "import matplotlib.pyplot as plt\n",
    "from matplotlib import figure"
   ],
   "id": "829f7a6436438e83",
   "outputs": [],
   "execution_count": 88
  },
  {
   "metadata": {},
   "cell_type": "markdown",
   "source": "Read in dataframe",
   "id": "41139f33fe66d454"
  },
  {
   "cell_type": "code",
   "id": "initial_id",
   "metadata": {
    "collapsed": true,
    "ExecuteTime": {
     "end_time": "2024-04-16T05:55:17.181623Z",
     "start_time": "2024-04-16T05:55:17.121158Z"
    }
   },
   "source": "df = pd.read_csv(\"amazon.csv\")",
   "outputs": [],
   "execution_count": 89
  },
  {
   "metadata": {
    "ExecuteTime": {
     "end_time": "2024-04-16T05:55:17.193714Z",
     "start_time": "2024-04-16T05:55:17.182630Z"
    }
   },
   "cell_type": "code",
   "source": "df.head()",
   "id": "8d838f01fd4bb24c",
   "outputs": [
    {
     "data": {
      "text/plain": [
       "   product_id                                       product_name  \\\n",
       "0  B07JW9H4J1  Wayona Nylon Braided USB to Lightning Fast Cha...   \n",
       "1  B098NS6PVG  Ambrane Unbreakable 60W / 3A Fast Charging 1.5...   \n",
       "2  B096MSW6CT  Sounce Fast Phone Charging Cable & Data Sync U...   \n",
       "3  B08HDJ86NZ  boAt Deuce USB 300 2 in 1 Type-C & Micro USB S...   \n",
       "4  B08CF3B7N1  Portronics Konnect L 1.2M Fast Charging 3A 8 P...   \n",
       "\n",
       "                                            category discounted_price  \\\n",
       "0  Computers&Accessories|Accessories&Peripherals|...             ₹399   \n",
       "1  Computers&Accessories|Accessories&Peripherals|...             ₹199   \n",
       "2  Computers&Accessories|Accessories&Peripherals|...             ₹199   \n",
       "3  Computers&Accessories|Accessories&Peripherals|...             ₹329   \n",
       "4  Computers&Accessories|Accessories&Peripherals|...             ₹154   \n",
       "\n",
       "  actual_price discount_percentage rating rating_count  \\\n",
       "0       ₹1,099                 64%    4.2       24,269   \n",
       "1         ₹349                 43%    4.0       43,994   \n",
       "2       ₹1,899                 90%    3.9        7,928   \n",
       "3         ₹699                 53%    4.2       94,363   \n",
       "4         ₹399                 61%    4.2       16,905   \n",
       "\n",
       "                                       about_product  \\\n",
       "0  High Compatibility : Compatible With iPhone 12...   \n",
       "1  Compatible with all Type C enabled devices, be...   \n",
       "2  【 Fast Charger& Data Sync】-With built-in safet...   \n",
       "3  The boAt Deuce USB 300 2 in 1 cable is compati...   \n",
       "4  [CHARGE & SYNC FUNCTION]- This cable comes wit...   \n",
       "\n",
       "                                             user_id  \\\n",
       "0  AG3D6O4STAQKAY2UVGEUV46KN35Q,AHMY5CWJMMK5BJRBB...   \n",
       "1  AECPFYFQVRUWC3KGNLJIOREFP5LQ,AGYYVPDD7YG7FYNBX...   \n",
       "2  AGU3BBQ2V2DDAMOAKGFAWDDQ6QHA,AESFLDV2PT363T2AQ...   \n",
       "3  AEWAZDZZJLQUYVOVGBEUKSLXHQ5A,AG5HTSFRRE6NL3M5S...   \n",
       "4  AE3Q6KSUK5P75D5HFYHCRAOLODSA,AFUGIFH5ZAFXRDSZH...   \n",
       "\n",
       "                                           user_name  \\\n",
       "0  Manav,Adarsh gupta,Sundeep,S.Sayeed Ahmed,jasp...   \n",
       "1  ArdKn,Nirbhay kumar,Sagar Viswanathan,Asp,Plac...   \n",
       "2  Kunal,Himanshu,viswanath,sai niharka,saqib mal...   \n",
       "3  Omkar dhale,JD,HEMALATHA,Ajwadh a.,amar singh ...   \n",
       "4  rahuls6099,Swasat Borah,Ajay Wadke,Pranali,RVK...   \n",
       "\n",
       "                                           review_id  \\\n",
       "0  R3HXWT0LRP0NMF,R2AJM3LFTLZHFO,R6AQJGUP6P86,R1K...   \n",
       "1  RGIQEG07R9HS2,R1SMWZQ86XIN8U,R2J3Y1WL29GWDE,RY...   \n",
       "2  R3J3EQQ9TZI5ZJ,R3E7WBGK7ID0KV,RWU79XKQ6I1QF,R2...   \n",
       "3  R3EEUZKKK9J36I,R3HJVYCLYOY554,REDECAZ7AMPQC,R1...   \n",
       "4  R1BP4L2HH9TFUP,R16PVJEXKV6QZS,R2UPDB81N66T4P,R...   \n",
       "\n",
       "                                        review_title  \\\n",
       "0  Satisfied,Charging is really fast,Value for mo...   \n",
       "1  A Good Braided Cable for Your Type C Device,Go...   \n",
       "2  Good speed for earlier versions,Good Product,W...   \n",
       "3  Good product,Good one,Nice,Really nice product...   \n",
       "4  As good as original,Decent,Good one for second...   \n",
       "\n",
       "                                      review_content  \\\n",
       "0  Looks durable Charging is fine tooNo complains...   \n",
       "1  I ordered this cable to connect my phone to An...   \n",
       "2  Not quite durable and sturdy,https://m.media-a...   \n",
       "3  Good product,long wire,Charges good,Nice,I bou...   \n",
       "4  Bought this instead of original apple, does th...   \n",
       "\n",
       "                                            img_link  \\\n",
       "0  https://m.media-amazon.com/images/W/WEBP_40237...   \n",
       "1  https://m.media-amazon.com/images/W/WEBP_40237...   \n",
       "2  https://m.media-amazon.com/images/W/WEBP_40237...   \n",
       "3  https://m.media-amazon.com/images/I/41V5FtEWPk...   \n",
       "4  https://m.media-amazon.com/images/W/WEBP_40237...   \n",
       "\n",
       "                                        product_link  \n",
       "0  https://www.amazon.in/Wayona-Braided-WN3LG1-Sy...  \n",
       "1  https://www.amazon.in/Ambrane-Unbreakable-Char...  \n",
       "2  https://www.amazon.in/Sounce-iPhone-Charging-C...  \n",
       "3  https://www.amazon.in/Deuce-300-Resistant-Tang...  \n",
       "4  https://www.amazon.in/Portronics-Konnect-POR-1...  "
      ],
      "text/html": [
       "<div>\n",
       "<style scoped>\n",
       "    .dataframe tbody tr th:only-of-type {\n",
       "        vertical-align: middle;\n",
       "    }\n",
       "\n",
       "    .dataframe tbody tr th {\n",
       "        vertical-align: top;\n",
       "    }\n",
       "\n",
       "    .dataframe thead th {\n",
       "        text-align: right;\n",
       "    }\n",
       "</style>\n",
       "<table border=\"1\" class=\"dataframe\">\n",
       "  <thead>\n",
       "    <tr style=\"text-align: right;\">\n",
       "      <th></th>\n",
       "      <th>product_id</th>\n",
       "      <th>product_name</th>\n",
       "      <th>category</th>\n",
       "      <th>discounted_price</th>\n",
       "      <th>actual_price</th>\n",
       "      <th>discount_percentage</th>\n",
       "      <th>rating</th>\n",
       "      <th>rating_count</th>\n",
       "      <th>about_product</th>\n",
       "      <th>user_id</th>\n",
       "      <th>user_name</th>\n",
       "      <th>review_id</th>\n",
       "      <th>review_title</th>\n",
       "      <th>review_content</th>\n",
       "      <th>img_link</th>\n",
       "      <th>product_link</th>\n",
       "    </tr>\n",
       "  </thead>\n",
       "  <tbody>\n",
       "    <tr>\n",
       "      <th>0</th>\n",
       "      <td>B07JW9H4J1</td>\n",
       "      <td>Wayona Nylon Braided USB to Lightning Fast Cha...</td>\n",
       "      <td>Computers&amp;Accessories|Accessories&amp;Peripherals|...</td>\n",
       "      <td>₹399</td>\n",
       "      <td>₹1,099</td>\n",
       "      <td>64%</td>\n",
       "      <td>4.2</td>\n",
       "      <td>24,269</td>\n",
       "      <td>High Compatibility : Compatible With iPhone 12...</td>\n",
       "      <td>AG3D6O4STAQKAY2UVGEUV46KN35Q,AHMY5CWJMMK5BJRBB...</td>\n",
       "      <td>Manav,Adarsh gupta,Sundeep,S.Sayeed Ahmed,jasp...</td>\n",
       "      <td>R3HXWT0LRP0NMF,R2AJM3LFTLZHFO,R6AQJGUP6P86,R1K...</td>\n",
       "      <td>Satisfied,Charging is really fast,Value for mo...</td>\n",
       "      <td>Looks durable Charging is fine tooNo complains...</td>\n",
       "      <td>https://m.media-amazon.com/images/W/WEBP_40237...</td>\n",
       "      <td>https://www.amazon.in/Wayona-Braided-WN3LG1-Sy...</td>\n",
       "    </tr>\n",
       "    <tr>\n",
       "      <th>1</th>\n",
       "      <td>B098NS6PVG</td>\n",
       "      <td>Ambrane Unbreakable 60W / 3A Fast Charging 1.5...</td>\n",
       "      <td>Computers&amp;Accessories|Accessories&amp;Peripherals|...</td>\n",
       "      <td>₹199</td>\n",
       "      <td>₹349</td>\n",
       "      <td>43%</td>\n",
       "      <td>4.0</td>\n",
       "      <td>43,994</td>\n",
       "      <td>Compatible with all Type C enabled devices, be...</td>\n",
       "      <td>AECPFYFQVRUWC3KGNLJIOREFP5LQ,AGYYVPDD7YG7FYNBX...</td>\n",
       "      <td>ArdKn,Nirbhay kumar,Sagar Viswanathan,Asp,Plac...</td>\n",
       "      <td>RGIQEG07R9HS2,R1SMWZQ86XIN8U,R2J3Y1WL29GWDE,RY...</td>\n",
       "      <td>A Good Braided Cable for Your Type C Device,Go...</td>\n",
       "      <td>I ordered this cable to connect my phone to An...</td>\n",
       "      <td>https://m.media-amazon.com/images/W/WEBP_40237...</td>\n",
       "      <td>https://www.amazon.in/Ambrane-Unbreakable-Char...</td>\n",
       "    </tr>\n",
       "    <tr>\n",
       "      <th>2</th>\n",
       "      <td>B096MSW6CT</td>\n",
       "      <td>Sounce Fast Phone Charging Cable &amp; Data Sync U...</td>\n",
       "      <td>Computers&amp;Accessories|Accessories&amp;Peripherals|...</td>\n",
       "      <td>₹199</td>\n",
       "      <td>₹1,899</td>\n",
       "      <td>90%</td>\n",
       "      <td>3.9</td>\n",
       "      <td>7,928</td>\n",
       "      <td>【 Fast Charger&amp; Data Sync】-With built-in safet...</td>\n",
       "      <td>AGU3BBQ2V2DDAMOAKGFAWDDQ6QHA,AESFLDV2PT363T2AQ...</td>\n",
       "      <td>Kunal,Himanshu,viswanath,sai niharka,saqib mal...</td>\n",
       "      <td>R3J3EQQ9TZI5ZJ,R3E7WBGK7ID0KV,RWU79XKQ6I1QF,R2...</td>\n",
       "      <td>Good speed for earlier versions,Good Product,W...</td>\n",
       "      <td>Not quite durable and sturdy,https://m.media-a...</td>\n",
       "      <td>https://m.media-amazon.com/images/W/WEBP_40237...</td>\n",
       "      <td>https://www.amazon.in/Sounce-iPhone-Charging-C...</td>\n",
       "    </tr>\n",
       "    <tr>\n",
       "      <th>3</th>\n",
       "      <td>B08HDJ86NZ</td>\n",
       "      <td>boAt Deuce USB 300 2 in 1 Type-C &amp; Micro USB S...</td>\n",
       "      <td>Computers&amp;Accessories|Accessories&amp;Peripherals|...</td>\n",
       "      <td>₹329</td>\n",
       "      <td>₹699</td>\n",
       "      <td>53%</td>\n",
       "      <td>4.2</td>\n",
       "      <td>94,363</td>\n",
       "      <td>The boAt Deuce USB 300 2 in 1 cable is compati...</td>\n",
       "      <td>AEWAZDZZJLQUYVOVGBEUKSLXHQ5A,AG5HTSFRRE6NL3M5S...</td>\n",
       "      <td>Omkar dhale,JD,HEMALATHA,Ajwadh a.,amar singh ...</td>\n",
       "      <td>R3EEUZKKK9J36I,R3HJVYCLYOY554,REDECAZ7AMPQC,R1...</td>\n",
       "      <td>Good product,Good one,Nice,Really nice product...</td>\n",
       "      <td>Good product,long wire,Charges good,Nice,I bou...</td>\n",
       "      <td>https://m.media-amazon.com/images/I/41V5FtEWPk...</td>\n",
       "      <td>https://www.amazon.in/Deuce-300-Resistant-Tang...</td>\n",
       "    </tr>\n",
       "    <tr>\n",
       "      <th>4</th>\n",
       "      <td>B08CF3B7N1</td>\n",
       "      <td>Portronics Konnect L 1.2M Fast Charging 3A 8 P...</td>\n",
       "      <td>Computers&amp;Accessories|Accessories&amp;Peripherals|...</td>\n",
       "      <td>₹154</td>\n",
       "      <td>₹399</td>\n",
       "      <td>61%</td>\n",
       "      <td>4.2</td>\n",
       "      <td>16,905</td>\n",
       "      <td>[CHARGE &amp; SYNC FUNCTION]- This cable comes wit...</td>\n",
       "      <td>AE3Q6KSUK5P75D5HFYHCRAOLODSA,AFUGIFH5ZAFXRDSZH...</td>\n",
       "      <td>rahuls6099,Swasat Borah,Ajay Wadke,Pranali,RVK...</td>\n",
       "      <td>R1BP4L2HH9TFUP,R16PVJEXKV6QZS,R2UPDB81N66T4P,R...</td>\n",
       "      <td>As good as original,Decent,Good one for second...</td>\n",
       "      <td>Bought this instead of original apple, does th...</td>\n",
       "      <td>https://m.media-amazon.com/images/W/WEBP_40237...</td>\n",
       "      <td>https://www.amazon.in/Portronics-Konnect-POR-1...</td>\n",
       "    </tr>\n",
       "  </tbody>\n",
       "</table>\n",
       "</div>"
      ]
     },
     "execution_count": 90,
     "metadata": {},
     "output_type": "execute_result"
    }
   ],
   "execution_count": 90
  },
  {
   "metadata": {},
   "cell_type": "markdown",
   "source": "Check to see data type",
   "id": "d1b4c2c9912c53c7"
  },
  {
   "metadata": {
    "ExecuteTime": {
     "end_time": "2024-04-16T05:55:17.209852Z",
     "start_time": "2024-04-16T05:55:17.194721Z"
    }
   },
   "cell_type": "code",
   "source": "df.info()",
   "id": "e4bf23d97491d740",
   "outputs": [
    {
     "name": "stdout",
     "output_type": "stream",
     "text": [
      "<class 'pandas.core.frame.DataFrame'>\n",
      "RangeIndex: 1465 entries, 0 to 1464\n",
      "Data columns (total 16 columns):\n",
      " #   Column               Non-Null Count  Dtype \n",
      "---  ------               --------------  ----- \n",
      " 0   product_id           1465 non-null   object\n",
      " 1   product_name         1465 non-null   object\n",
      " 2   category             1465 non-null   object\n",
      " 3   discounted_price     1465 non-null   object\n",
      " 4   actual_price         1465 non-null   object\n",
      " 5   discount_percentage  1465 non-null   object\n",
      " 6   rating               1465 non-null   object\n",
      " 7   rating_count         1463 non-null   object\n",
      " 8   about_product        1465 non-null   object\n",
      " 9   user_id              1465 non-null   object\n",
      " 10  user_name            1465 non-null   object\n",
      " 11  review_id            1465 non-null   object\n",
      " 12  review_title         1465 non-null   object\n",
      " 13  review_content       1465 non-null   object\n",
      " 14  img_link             1465 non-null   object\n",
      " 15  product_link         1465 non-null   object\n",
      "dtypes: object(16)\n",
      "memory usage: 183.3+ KB\n"
     ]
    }
   ],
   "execution_count": 91
  },
  {
   "metadata": {},
   "cell_type": "markdown",
   "source": "We see that the data types are all objects",
   "id": "a35923e97520066e"
  },
  {
   "metadata": {},
   "cell_type": "markdown",
   "source": "Check Shape",
   "id": "595e9e0ddf51593e"
  },
  {
   "metadata": {
    "ExecuteTime": {
     "end_time": "2024-04-16T05:55:17.215611Z",
     "start_time": "2024-04-16T05:55:17.210856Z"
    }
   },
   "cell_type": "code",
   "source": "df.shape",
   "id": "701d96462674e924",
   "outputs": [
    {
     "data": {
      "text/plain": [
       "(1465, 16)"
      ]
     },
     "execution_count": 92,
     "metadata": {},
     "output_type": "execute_result"
    }
   ],
   "execution_count": 92
  },
  {
   "metadata": {},
   "cell_type": "markdown",
   "source": "Drop Missing Values",
   "id": "70b09aae83ee7d15"
  },
  {
   "metadata": {
    "ExecuteTime": {
     "end_time": "2024-04-16T05:55:17.228299Z",
     "start_time": "2024-04-16T05:55:17.216618Z"
    }
   },
   "cell_type": "code",
   "source": "df = df.dropna()",
   "id": "89cf833dc69c2080",
   "outputs": [],
   "execution_count": 93
  },
  {
   "metadata": {},
   "cell_type": "markdown",
   "source": "Check for Null Values",
   "id": "5c14658ec0ddbdaf"
  },
  {
   "metadata": {
    "ExecuteTime": {
     "end_time": "2024-04-16T05:55:17.243316Z",
     "start_time": "2024-04-16T05:55:17.229305Z"
    }
   },
   "cell_type": "code",
   "source": "df.isnull().value_counts()",
   "id": "ebaf20e13e41d4a3",
   "outputs": [
    {
     "data": {
      "text/plain": [
       "product_id  product_name  category  discounted_price  actual_price  discount_percentage  rating  rating_count  about_product  user_id  user_name  review_id  review_title  review_content  img_link  product_link\n",
       "False       False         False     False             False         False                False   False         False          False    False      False      False         False           False     False           1463\n",
       "Name: count, dtype: int64"
      ]
     },
     "execution_count": 94,
     "metadata": {},
     "output_type": "execute_result"
    }
   ],
   "execution_count": 94
  },
  {
   "metadata": {},
   "cell_type": "markdown",
   "source": "Check Shape again (We can see 2 values were missing and got removed)",
   "id": "e1ec98b7580f7332"
  },
  {
   "metadata": {
    "ExecuteTime": {
     "end_time": "2024-04-16T05:55:17.248472Z",
     "start_time": "2024-04-16T05:55:17.244323Z"
    }
   },
   "cell_type": "code",
   "source": "df.shape",
   "id": "18ed57e4eb5007c",
   "outputs": [
    {
     "data": {
      "text/plain": [
       "(1463, 16)"
      ]
     },
     "execution_count": 95,
     "metadata": {},
     "output_type": "execute_result"
    }
   ],
   "execution_count": 95
  },
  {
   "metadata": {},
   "cell_type": "markdown",
   "source": "Now we clean the data",
   "id": "6b12cb1d4633a755"
  },
  {
   "metadata": {},
   "cell_type": "markdown",
   "source": "Replace unwanted characters",
   "id": "65bb7b87086137a"
  },
  {
   "metadata": {
    "ExecuteTime": {
     "end_time": "2024-04-16T05:55:17.267561Z",
     "start_time": "2024-04-16T05:55:17.249479Z"
    }
   },
   "cell_type": "code",
   "source": [
    "filtered_df_ComputersAccessories = df[df['category'].str.contains('Computers&Accessories')]\n",
    "\n",
    "filtered_df_ComputersAccessories['category'] = filtered_df_ComputersAccessories['category'].str.replace('|',' ')\n",
    "\n",
    "filtered_df_ComputersAccessories.head()"
   ],
   "id": "80fe53fc7a7d1f59",
   "outputs": [
    {
     "name": "stderr",
     "output_type": "stream",
     "text": [
      "C:\\Users\\Kai\\AppData\\Local\\Temp\\ipykernel_20792\\2295756817.py:3: SettingWithCopyWarning: \n",
      "A value is trying to be set on a copy of a slice from a DataFrame.\n",
      "Try using .loc[row_indexer,col_indexer] = value instead\n",
      "\n",
      "See the caveats in the documentation: https://pandas.pydata.org/pandas-docs/stable/user_guide/indexing.html#returning-a-view-versus-a-copy\n",
      "  filtered_df_ComputersAccessories['category'] = filtered_df_ComputersAccessories['category'].str.replace('|',' ')\n"
     ]
    },
    {
     "data": {
      "text/plain": [
       "   product_id                                       product_name  \\\n",
       "0  B07JW9H4J1  Wayona Nylon Braided USB to Lightning Fast Cha...   \n",
       "1  B098NS6PVG  Ambrane Unbreakable 60W / 3A Fast Charging 1.5...   \n",
       "2  B096MSW6CT  Sounce Fast Phone Charging Cable & Data Sync U...   \n",
       "3  B08HDJ86NZ  boAt Deuce USB 300 2 in 1 Type-C & Micro USB S...   \n",
       "4  B08CF3B7N1  Portronics Konnect L 1.2M Fast Charging 3A 8 P...   \n",
       "\n",
       "                                            category discounted_price  \\\n",
       "0  Computers&Accessories Accessories&Peripherals ...             ₹399   \n",
       "1  Computers&Accessories Accessories&Peripherals ...             ₹199   \n",
       "2  Computers&Accessories Accessories&Peripherals ...             ₹199   \n",
       "3  Computers&Accessories Accessories&Peripherals ...             ₹329   \n",
       "4  Computers&Accessories Accessories&Peripherals ...             ₹154   \n",
       "\n",
       "  actual_price discount_percentage rating rating_count  \\\n",
       "0       ₹1,099                 64%    4.2       24,269   \n",
       "1         ₹349                 43%    4.0       43,994   \n",
       "2       ₹1,899                 90%    3.9        7,928   \n",
       "3         ₹699                 53%    4.2       94,363   \n",
       "4         ₹399                 61%    4.2       16,905   \n",
       "\n",
       "                                       about_product  \\\n",
       "0  High Compatibility : Compatible With iPhone 12...   \n",
       "1  Compatible with all Type C enabled devices, be...   \n",
       "2  【 Fast Charger& Data Sync】-With built-in safet...   \n",
       "3  The boAt Deuce USB 300 2 in 1 cable is compati...   \n",
       "4  [CHARGE & SYNC FUNCTION]- This cable comes wit...   \n",
       "\n",
       "                                             user_id  \\\n",
       "0  AG3D6O4STAQKAY2UVGEUV46KN35Q,AHMY5CWJMMK5BJRBB...   \n",
       "1  AECPFYFQVRUWC3KGNLJIOREFP5LQ,AGYYVPDD7YG7FYNBX...   \n",
       "2  AGU3BBQ2V2DDAMOAKGFAWDDQ6QHA,AESFLDV2PT363T2AQ...   \n",
       "3  AEWAZDZZJLQUYVOVGBEUKSLXHQ5A,AG5HTSFRRE6NL3M5S...   \n",
       "4  AE3Q6KSUK5P75D5HFYHCRAOLODSA,AFUGIFH5ZAFXRDSZH...   \n",
       "\n",
       "                                           user_name  \\\n",
       "0  Manav,Adarsh gupta,Sundeep,S.Sayeed Ahmed,jasp...   \n",
       "1  ArdKn,Nirbhay kumar,Sagar Viswanathan,Asp,Plac...   \n",
       "2  Kunal,Himanshu,viswanath,sai niharka,saqib mal...   \n",
       "3  Omkar dhale,JD,HEMALATHA,Ajwadh a.,amar singh ...   \n",
       "4  rahuls6099,Swasat Borah,Ajay Wadke,Pranali,RVK...   \n",
       "\n",
       "                                           review_id  \\\n",
       "0  R3HXWT0LRP0NMF,R2AJM3LFTLZHFO,R6AQJGUP6P86,R1K...   \n",
       "1  RGIQEG07R9HS2,R1SMWZQ86XIN8U,R2J3Y1WL29GWDE,RY...   \n",
       "2  R3J3EQQ9TZI5ZJ,R3E7WBGK7ID0KV,RWU79XKQ6I1QF,R2...   \n",
       "3  R3EEUZKKK9J36I,R3HJVYCLYOY554,REDECAZ7AMPQC,R1...   \n",
       "4  R1BP4L2HH9TFUP,R16PVJEXKV6QZS,R2UPDB81N66T4P,R...   \n",
       "\n",
       "                                        review_title  \\\n",
       "0  Satisfied,Charging is really fast,Value for mo...   \n",
       "1  A Good Braided Cable for Your Type C Device,Go...   \n",
       "2  Good speed for earlier versions,Good Product,W...   \n",
       "3  Good product,Good one,Nice,Really nice product...   \n",
       "4  As good as original,Decent,Good one for second...   \n",
       "\n",
       "                                      review_content  \\\n",
       "0  Looks durable Charging is fine tooNo complains...   \n",
       "1  I ordered this cable to connect my phone to An...   \n",
       "2  Not quite durable and sturdy,https://m.media-a...   \n",
       "3  Good product,long wire,Charges good,Nice,I bou...   \n",
       "4  Bought this instead of original apple, does th...   \n",
       "\n",
       "                                            img_link  \\\n",
       "0  https://m.media-amazon.com/images/W/WEBP_40237...   \n",
       "1  https://m.media-amazon.com/images/W/WEBP_40237...   \n",
       "2  https://m.media-amazon.com/images/W/WEBP_40237...   \n",
       "3  https://m.media-amazon.com/images/I/41V5FtEWPk...   \n",
       "4  https://m.media-amazon.com/images/W/WEBP_40237...   \n",
       "\n",
       "                                        product_link  \n",
       "0  https://www.amazon.in/Wayona-Braided-WN3LG1-Sy...  \n",
       "1  https://www.amazon.in/Ambrane-Unbreakable-Char...  \n",
       "2  https://www.amazon.in/Sounce-iPhone-Charging-C...  \n",
       "3  https://www.amazon.in/Deuce-300-Resistant-Tang...  \n",
       "4  https://www.amazon.in/Portronics-Konnect-POR-1...  "
      ],
      "text/html": [
       "<div>\n",
       "<style scoped>\n",
       "    .dataframe tbody tr th:only-of-type {\n",
       "        vertical-align: middle;\n",
       "    }\n",
       "\n",
       "    .dataframe tbody tr th {\n",
       "        vertical-align: top;\n",
       "    }\n",
       "\n",
       "    .dataframe thead th {\n",
       "        text-align: right;\n",
       "    }\n",
       "</style>\n",
       "<table border=\"1\" class=\"dataframe\">\n",
       "  <thead>\n",
       "    <tr style=\"text-align: right;\">\n",
       "      <th></th>\n",
       "      <th>product_id</th>\n",
       "      <th>product_name</th>\n",
       "      <th>category</th>\n",
       "      <th>discounted_price</th>\n",
       "      <th>actual_price</th>\n",
       "      <th>discount_percentage</th>\n",
       "      <th>rating</th>\n",
       "      <th>rating_count</th>\n",
       "      <th>about_product</th>\n",
       "      <th>user_id</th>\n",
       "      <th>user_name</th>\n",
       "      <th>review_id</th>\n",
       "      <th>review_title</th>\n",
       "      <th>review_content</th>\n",
       "      <th>img_link</th>\n",
       "      <th>product_link</th>\n",
       "    </tr>\n",
       "  </thead>\n",
       "  <tbody>\n",
       "    <tr>\n",
       "      <th>0</th>\n",
       "      <td>B07JW9H4J1</td>\n",
       "      <td>Wayona Nylon Braided USB to Lightning Fast Cha...</td>\n",
       "      <td>Computers&amp;Accessories Accessories&amp;Peripherals ...</td>\n",
       "      <td>₹399</td>\n",
       "      <td>₹1,099</td>\n",
       "      <td>64%</td>\n",
       "      <td>4.2</td>\n",
       "      <td>24,269</td>\n",
       "      <td>High Compatibility : Compatible With iPhone 12...</td>\n",
       "      <td>AG3D6O4STAQKAY2UVGEUV46KN35Q,AHMY5CWJMMK5BJRBB...</td>\n",
       "      <td>Manav,Adarsh gupta,Sundeep,S.Sayeed Ahmed,jasp...</td>\n",
       "      <td>R3HXWT0LRP0NMF,R2AJM3LFTLZHFO,R6AQJGUP6P86,R1K...</td>\n",
       "      <td>Satisfied,Charging is really fast,Value for mo...</td>\n",
       "      <td>Looks durable Charging is fine tooNo complains...</td>\n",
       "      <td>https://m.media-amazon.com/images/W/WEBP_40237...</td>\n",
       "      <td>https://www.amazon.in/Wayona-Braided-WN3LG1-Sy...</td>\n",
       "    </tr>\n",
       "    <tr>\n",
       "      <th>1</th>\n",
       "      <td>B098NS6PVG</td>\n",
       "      <td>Ambrane Unbreakable 60W / 3A Fast Charging 1.5...</td>\n",
       "      <td>Computers&amp;Accessories Accessories&amp;Peripherals ...</td>\n",
       "      <td>₹199</td>\n",
       "      <td>₹349</td>\n",
       "      <td>43%</td>\n",
       "      <td>4.0</td>\n",
       "      <td>43,994</td>\n",
       "      <td>Compatible with all Type C enabled devices, be...</td>\n",
       "      <td>AECPFYFQVRUWC3KGNLJIOREFP5LQ,AGYYVPDD7YG7FYNBX...</td>\n",
       "      <td>ArdKn,Nirbhay kumar,Sagar Viswanathan,Asp,Plac...</td>\n",
       "      <td>RGIQEG07R9HS2,R1SMWZQ86XIN8U,R2J3Y1WL29GWDE,RY...</td>\n",
       "      <td>A Good Braided Cable for Your Type C Device,Go...</td>\n",
       "      <td>I ordered this cable to connect my phone to An...</td>\n",
       "      <td>https://m.media-amazon.com/images/W/WEBP_40237...</td>\n",
       "      <td>https://www.amazon.in/Ambrane-Unbreakable-Char...</td>\n",
       "    </tr>\n",
       "    <tr>\n",
       "      <th>2</th>\n",
       "      <td>B096MSW6CT</td>\n",
       "      <td>Sounce Fast Phone Charging Cable &amp; Data Sync U...</td>\n",
       "      <td>Computers&amp;Accessories Accessories&amp;Peripherals ...</td>\n",
       "      <td>₹199</td>\n",
       "      <td>₹1,899</td>\n",
       "      <td>90%</td>\n",
       "      <td>3.9</td>\n",
       "      <td>7,928</td>\n",
       "      <td>【 Fast Charger&amp; Data Sync】-With built-in safet...</td>\n",
       "      <td>AGU3BBQ2V2DDAMOAKGFAWDDQ6QHA,AESFLDV2PT363T2AQ...</td>\n",
       "      <td>Kunal,Himanshu,viswanath,sai niharka,saqib mal...</td>\n",
       "      <td>R3J3EQQ9TZI5ZJ,R3E7WBGK7ID0KV,RWU79XKQ6I1QF,R2...</td>\n",
       "      <td>Good speed for earlier versions,Good Product,W...</td>\n",
       "      <td>Not quite durable and sturdy,https://m.media-a...</td>\n",
       "      <td>https://m.media-amazon.com/images/W/WEBP_40237...</td>\n",
       "      <td>https://www.amazon.in/Sounce-iPhone-Charging-C...</td>\n",
       "    </tr>\n",
       "    <tr>\n",
       "      <th>3</th>\n",
       "      <td>B08HDJ86NZ</td>\n",
       "      <td>boAt Deuce USB 300 2 in 1 Type-C &amp; Micro USB S...</td>\n",
       "      <td>Computers&amp;Accessories Accessories&amp;Peripherals ...</td>\n",
       "      <td>₹329</td>\n",
       "      <td>₹699</td>\n",
       "      <td>53%</td>\n",
       "      <td>4.2</td>\n",
       "      <td>94,363</td>\n",
       "      <td>The boAt Deuce USB 300 2 in 1 cable is compati...</td>\n",
       "      <td>AEWAZDZZJLQUYVOVGBEUKSLXHQ5A,AG5HTSFRRE6NL3M5S...</td>\n",
       "      <td>Omkar dhale,JD,HEMALATHA,Ajwadh a.,amar singh ...</td>\n",
       "      <td>R3EEUZKKK9J36I,R3HJVYCLYOY554,REDECAZ7AMPQC,R1...</td>\n",
       "      <td>Good product,Good one,Nice,Really nice product...</td>\n",
       "      <td>Good product,long wire,Charges good,Nice,I bou...</td>\n",
       "      <td>https://m.media-amazon.com/images/I/41V5FtEWPk...</td>\n",
       "      <td>https://www.amazon.in/Deuce-300-Resistant-Tang...</td>\n",
       "    </tr>\n",
       "    <tr>\n",
       "      <th>4</th>\n",
       "      <td>B08CF3B7N1</td>\n",
       "      <td>Portronics Konnect L 1.2M Fast Charging 3A 8 P...</td>\n",
       "      <td>Computers&amp;Accessories Accessories&amp;Peripherals ...</td>\n",
       "      <td>₹154</td>\n",
       "      <td>₹399</td>\n",
       "      <td>61%</td>\n",
       "      <td>4.2</td>\n",
       "      <td>16,905</td>\n",
       "      <td>[CHARGE &amp; SYNC FUNCTION]- This cable comes wit...</td>\n",
       "      <td>AE3Q6KSUK5P75D5HFYHCRAOLODSA,AFUGIFH5ZAFXRDSZH...</td>\n",
       "      <td>rahuls6099,Swasat Borah,Ajay Wadke,Pranali,RVK...</td>\n",
       "      <td>R1BP4L2HH9TFUP,R16PVJEXKV6QZS,R2UPDB81N66T4P,R...</td>\n",
       "      <td>As good as original,Decent,Good one for second...</td>\n",
       "      <td>Bought this instead of original apple, does th...</td>\n",
       "      <td>https://m.media-amazon.com/images/W/WEBP_40237...</td>\n",
       "      <td>https://www.amazon.in/Portronics-Konnect-POR-1...</td>\n",
       "    </tr>\n",
       "  </tbody>\n",
       "</table>\n",
       "</div>"
      ]
     },
     "execution_count": 96,
     "metadata": {},
     "output_type": "execute_result"
    }
   ],
   "execution_count": 96
  },
  {
   "metadata": {},
   "cell_type": "markdown",
   "source": "With filtered dataframe, I will create a new column (category1) that contains ",
   "id": "d95bac2ea611fc1a"
  },
  {
   "metadata": {
    "ExecuteTime": {
     "end_time": "2024-04-16T05:55:17.280958Z",
     "start_time": "2024-04-16T05:55:17.268569Z"
    }
   },
   "cell_type": "code",
   "source": [
    "filtered_df_ComputersAccessories.loc[:, \"category1\"] = filtered_df_ComputersAccessories[\"category\"].str.split().str[-1]\n",
    "filtered_df_ComputersAccessories.tail()"
   ],
   "id": "f531a9c534b0ac0f",
   "outputs": [
    {
     "name": "stderr",
     "output_type": "stream",
     "text": [
      "C:\\Users\\Kai\\AppData\\Local\\Temp\\ipykernel_20792\\86461144.py:1: SettingWithCopyWarning: \n",
      "A value is trying to be set on a copy of a slice from a DataFrame.\n",
      "Try using .loc[row_indexer,col_indexer] = value instead\n",
      "\n",
      "See the caveats in the documentation: https://pandas.pydata.org/pandas-docs/stable/user_guide/indexing.html#returning-a-view-versus-a-copy\n",
      "  filtered_df_ComputersAccessories.loc[:, \"category1\"] = filtered_df_ComputersAccessories[\"category\"].str.split().str[-1]\n"
     ]
    },
    {
     "data": {
      "text/plain": [
       "      product_id                                       product_name  \\\n",
       "1013  B08CZHGHKH  BESTOR® LCD Writing Tablet/pad 12 inches | Ele...   \n",
       "1014  B0B2RBP83P  Lenovo IdeaPad 3 11th Gen Intel Core i3 15.6\" ...   \n",
       "1018  B0BMXMLSMM  Lapster 65W compatible for OnePlus Dash Warp C...   \n",
       "1019  B0141EZMAI  Gizga Essentials USB WiFi Adapter for PC, 150 ...   \n",
       "1020  B07QMRHWJD  SWAPKART Portable Flexible Adjustable Eye Prot...   \n",
       "\n",
       "                                               category discounted_price  \\\n",
       "1013  Computers&Accessories Accessories&Peripherals ...             ₹499   \n",
       "1014   Computers&Accessories Laptops TraditionalLaptops          ₹37,247   \n",
       "1018  Computers&Accessories Accessories&Peripherals ...             ₹199   \n",
       "1019  Computers&Accessories NetworkingDevices Networ...             ₹269   \n",
       "1020  Computers&Accessories Accessories&Peripherals ...             ₹298   \n",
       "\n",
       "     actual_price discount_percentage rating rating_count  \\\n",
       "1013       ₹1,399                 64%    3.9        1,462   \n",
       "1014      ₹59,890                 38%    4.0          323   \n",
       "1018         ₹999                 80%    4.5          127   \n",
       "1019         ₹800                 66%    3.6       10,134   \n",
       "1020         ₹999                 70%    4.3        1,552   \n",
       "\n",
       "                                          about_product  \\\n",
       "1013  BESTOR 12-inch size Graphic Tablets for drawin...   \n",
       "1014  Processor: 11th Gen Intel Core i3-1115G4 | Spe...   \n",
       "1018  -1 meter type c to c cable fast charging cable...   \n",
       "1019  USB WiFi Adapter: Fast wireless transmission a...   \n",
       "1020  14 Highlight LED Lamp,super bright white light...   \n",
       "\n",
       "                                                user_id  \\\n",
       "1013  AGRDTPMUHWAPVCLIT32C7WW2V6JA,AG6JGI37HP3HKED7F...   \n",
       "1014  AF5IDL42LBZCZ7A5YDGM2QFNUHEQ,AHPQHJVDA6JHFNRN7...   \n",
       "1018  AHFENRYJG4LPXDTUGEMG335VICSQ,AGSV37DJ5QTUYOXFJ...   \n",
       "1019  AGMJ6TDLOVZIR5ZU65TLJFSLG2BQ,AGPK7U5SHXBYBXEWB...   \n",
       "1020  AETGW4KBMIJPPNVLPKB7R7O3FSQQ,AEYRRD5MDFEO4UXUU...   \n",
       "\n",
       "                                              user_name  \\\n",
       "1013  SUBODH RAJ M S,Amazon Customer,Saurabh kumar,A...   \n",
       "1014  Mb,Amazon Customer,Adnan Malik,AD,Pradeep Rajb...   \n",
       "1018  Nadhiyarasan,Saurabh Aggarwal,Dibya,Sai Sriya,...   \n",
       "1019  SQL,ARUN KUMAR,veer,Ravi shankar,Shivam Kumar,...   \n",
       "1020  Bhawna,Abhishek C,Richard P.,Vivek,Sonali G.,C...   \n",
       "\n",
       "                                              review_id  \\\n",
       "1013  RXZ81N4MLYOJV,RSP3LVQQTLFHS,R2UXGNDYUTV459,R28...   \n",
       "1014  R2WGS6Q7F9F4Y5,R1VS2WU12H9Z2C,RMPKJJKZC848Y,R4...   \n",
       "1018  R14ZOPYFHOYYRQ,R1GQH74NUCJZZ7,R1BNWIYBRSI1Z6,R...   \n",
       "1019  R3AZDEK3MQA3RA,RXF3HCCBWV0VB,R6CVYFDUXBS36,R1Q...   \n",
       "1020  RTNU6RMF947TL,R2EDFUKTI01DH4,R2DXZK9Y1QZKSU,R1...   \n",
       "\n",
       "                                           review_title  \\\n",
       "1013  Kids will love it,Good,Good product 👍,bestor i...   \n",
       "1014  Value for money laptop for normal usage,Works ...   \n",
       "1018  Super charger in lapster,Best among the rest,C...   \n",
       "1019  Will not work with new system,Veri good,Ok pro...   \n",
       "1020  Can be use as table lamp or emergency light fo...   \n",
       "\n",
       "                                         review_content  \\\n",
       "1013  Bought it for my niece. It's very convenient f...   \n",
       "1014  If you are looking for a decent laptop and res...   \n",
       "1018  Best quality,The product looks original-like a...   \n",
       "1019  Was working fine with window 10 old computer b...   \n",
       "1020  bright enough to read in close proximity, can ...   \n",
       "\n",
       "                                               img_link  \\\n",
       "1013  https://m.media-amazon.com/images/W/WEBP_40237...   \n",
       "1014  https://m.media-amazon.com/images/I/41PnIUzyYM...   \n",
       "1018  https://m.media-amazon.com/images/W/WEBP_40237...   \n",
       "1019  https://m.media-amazon.com/images/W/WEBP_40237...   \n",
       "1020  https://m.media-amazon.com/images/I/41d-eh65JL...   \n",
       "\n",
       "                                           product_link            category1  \n",
       "1013  https://www.amazon.in/Bestor-Portable-Paperles...       GraphicTablets  \n",
       "1014  https://www.amazon.in/Lenovo-IdeaPad-Warranty-...   TraditionalLaptops  \n",
       "1018  https://www.amazon.in/Lapster-compatible-OnePl...            USBCables  \n",
       "1019  https://www.amazon.in/Receiver-300Mbps-802-11b...  WirelessUSBAdapters  \n",
       "1020  https://www.amazon.in/SWAPKART-Portable-Readin...                Lamps  "
      ],
      "text/html": [
       "<div>\n",
       "<style scoped>\n",
       "    .dataframe tbody tr th:only-of-type {\n",
       "        vertical-align: middle;\n",
       "    }\n",
       "\n",
       "    .dataframe tbody tr th {\n",
       "        vertical-align: top;\n",
       "    }\n",
       "\n",
       "    .dataframe thead th {\n",
       "        text-align: right;\n",
       "    }\n",
       "</style>\n",
       "<table border=\"1\" class=\"dataframe\">\n",
       "  <thead>\n",
       "    <tr style=\"text-align: right;\">\n",
       "      <th></th>\n",
       "      <th>product_id</th>\n",
       "      <th>product_name</th>\n",
       "      <th>category</th>\n",
       "      <th>discounted_price</th>\n",
       "      <th>actual_price</th>\n",
       "      <th>discount_percentage</th>\n",
       "      <th>rating</th>\n",
       "      <th>rating_count</th>\n",
       "      <th>about_product</th>\n",
       "      <th>user_id</th>\n",
       "      <th>user_name</th>\n",
       "      <th>review_id</th>\n",
       "      <th>review_title</th>\n",
       "      <th>review_content</th>\n",
       "      <th>img_link</th>\n",
       "      <th>product_link</th>\n",
       "      <th>category1</th>\n",
       "    </tr>\n",
       "  </thead>\n",
       "  <tbody>\n",
       "    <tr>\n",
       "      <th>1013</th>\n",
       "      <td>B08CZHGHKH</td>\n",
       "      <td>BESTOR® LCD Writing Tablet/pad 12 inches | Ele...</td>\n",
       "      <td>Computers&amp;Accessories Accessories&amp;Peripherals ...</td>\n",
       "      <td>₹499</td>\n",
       "      <td>₹1,399</td>\n",
       "      <td>64%</td>\n",
       "      <td>3.9</td>\n",
       "      <td>1,462</td>\n",
       "      <td>BESTOR 12-inch size Graphic Tablets for drawin...</td>\n",
       "      <td>AGRDTPMUHWAPVCLIT32C7WW2V6JA,AG6JGI37HP3HKED7F...</td>\n",
       "      <td>SUBODH RAJ M S,Amazon Customer,Saurabh kumar,A...</td>\n",
       "      <td>RXZ81N4MLYOJV,RSP3LVQQTLFHS,R2UXGNDYUTV459,R28...</td>\n",
       "      <td>Kids will love it,Good,Good product 👍,bestor i...</td>\n",
       "      <td>Bought it for my niece. It's very convenient f...</td>\n",
       "      <td>https://m.media-amazon.com/images/W/WEBP_40237...</td>\n",
       "      <td>https://www.amazon.in/Bestor-Portable-Paperles...</td>\n",
       "      <td>GraphicTablets</td>\n",
       "    </tr>\n",
       "    <tr>\n",
       "      <th>1014</th>\n",
       "      <td>B0B2RBP83P</td>\n",
       "      <td>Lenovo IdeaPad 3 11th Gen Intel Core i3 15.6\" ...</td>\n",
       "      <td>Computers&amp;Accessories Laptops TraditionalLaptops</td>\n",
       "      <td>₹37,247</td>\n",
       "      <td>₹59,890</td>\n",
       "      <td>38%</td>\n",
       "      <td>4.0</td>\n",
       "      <td>323</td>\n",
       "      <td>Processor: 11th Gen Intel Core i3-1115G4 | Spe...</td>\n",
       "      <td>AF5IDL42LBZCZ7A5YDGM2QFNUHEQ,AHPQHJVDA6JHFNRN7...</td>\n",
       "      <td>Mb,Amazon Customer,Adnan Malik,AD,Pradeep Rajb...</td>\n",
       "      <td>R2WGS6Q7F9F4Y5,R1VS2WU12H9Z2C,RMPKJJKZC848Y,R4...</td>\n",
       "      <td>Value for money laptop for normal usage,Works ...</td>\n",
       "      <td>If you are looking for a decent laptop and res...</td>\n",
       "      <td>https://m.media-amazon.com/images/I/41PnIUzyYM...</td>\n",
       "      <td>https://www.amazon.in/Lenovo-IdeaPad-Warranty-...</td>\n",
       "      <td>TraditionalLaptops</td>\n",
       "    </tr>\n",
       "    <tr>\n",
       "      <th>1018</th>\n",
       "      <td>B0BMXMLSMM</td>\n",
       "      <td>Lapster 65W compatible for OnePlus Dash Warp C...</td>\n",
       "      <td>Computers&amp;Accessories Accessories&amp;Peripherals ...</td>\n",
       "      <td>₹199</td>\n",
       "      <td>₹999</td>\n",
       "      <td>80%</td>\n",
       "      <td>4.5</td>\n",
       "      <td>127</td>\n",
       "      <td>-1 meter type c to c cable fast charging cable...</td>\n",
       "      <td>AHFENRYJG4LPXDTUGEMG335VICSQ,AGSV37DJ5QTUYOXFJ...</td>\n",
       "      <td>Nadhiyarasan,Saurabh Aggarwal,Dibya,Sai Sriya,...</td>\n",
       "      <td>R14ZOPYFHOYYRQ,R1GQH74NUCJZZ7,R1BNWIYBRSI1Z6,R...</td>\n",
       "      <td>Super charger in lapster,Best among the rest,C...</td>\n",
       "      <td>Best quality,The product looks original-like a...</td>\n",
       "      <td>https://m.media-amazon.com/images/W/WEBP_40237...</td>\n",
       "      <td>https://www.amazon.in/Lapster-compatible-OnePl...</td>\n",
       "      <td>USBCables</td>\n",
       "    </tr>\n",
       "    <tr>\n",
       "      <th>1019</th>\n",
       "      <td>B0141EZMAI</td>\n",
       "      <td>Gizga Essentials USB WiFi Adapter for PC, 150 ...</td>\n",
       "      <td>Computers&amp;Accessories NetworkingDevices Networ...</td>\n",
       "      <td>₹269</td>\n",
       "      <td>₹800</td>\n",
       "      <td>66%</td>\n",
       "      <td>3.6</td>\n",
       "      <td>10,134</td>\n",
       "      <td>USB WiFi Adapter: Fast wireless transmission a...</td>\n",
       "      <td>AGMJ6TDLOVZIR5ZU65TLJFSLG2BQ,AGPK7U5SHXBYBXEWB...</td>\n",
       "      <td>SQL,ARUN KUMAR,veer,Ravi shankar,Shivam Kumar,...</td>\n",
       "      <td>R3AZDEK3MQA3RA,RXF3HCCBWV0VB,R6CVYFDUXBS36,R1Q...</td>\n",
       "      <td>Will not work with new system,Veri good,Ok pro...</td>\n",
       "      <td>Was working fine with window 10 old computer b...</td>\n",
       "      <td>https://m.media-amazon.com/images/W/WEBP_40237...</td>\n",
       "      <td>https://www.amazon.in/Receiver-300Mbps-802-11b...</td>\n",
       "      <td>WirelessUSBAdapters</td>\n",
       "    </tr>\n",
       "    <tr>\n",
       "      <th>1020</th>\n",
       "      <td>B07QMRHWJD</td>\n",
       "      <td>SWAPKART Portable Flexible Adjustable Eye Prot...</td>\n",
       "      <td>Computers&amp;Accessories Accessories&amp;Peripherals ...</td>\n",
       "      <td>₹298</td>\n",
       "      <td>₹999</td>\n",
       "      <td>70%</td>\n",
       "      <td>4.3</td>\n",
       "      <td>1,552</td>\n",
       "      <td>14 Highlight LED Lamp,super bright white light...</td>\n",
       "      <td>AETGW4KBMIJPPNVLPKB7R7O3FSQQ,AEYRRD5MDFEO4UXUU...</td>\n",
       "      <td>Bhawna,Abhishek C,Richard P.,Vivek,Sonali G.,C...</td>\n",
       "      <td>RTNU6RMF947TL,R2EDFUKTI01DH4,R2DXZK9Y1QZKSU,R1...</td>\n",
       "      <td>Can be use as table lamp or emergency light fo...</td>\n",
       "      <td>bright enough to read in close proximity, can ...</td>\n",
       "      <td>https://m.media-amazon.com/images/I/41d-eh65JL...</td>\n",
       "      <td>https://www.amazon.in/SWAPKART-Portable-Readin...</td>\n",
       "      <td>Lamps</td>\n",
       "    </tr>\n",
       "  </tbody>\n",
       "</table>\n",
       "</div>"
      ]
     },
     "execution_count": 97,
     "metadata": {},
     "output_type": "execute_result"
    }
   ],
   "execution_count": 97
  },
  {
   "metadata": {},
   "cell_type": "markdown",
   "source": "Now I will convert prices from objects to float64 type by removing the special characters",
   "id": "b3bb40245fd46e1"
  },
  {
   "metadata": {
    "ExecuteTime": {
     "end_time": "2024-04-16T05:55:17.288300Z",
     "start_time": "2024-04-16T05:55:17.282965Z"
    }
   },
   "cell_type": "code",
   "source": "filtered_df_ComputersAccessories['rating'] = pd.to_numeric(filtered_df_ComputersAccessories['rating'], errors='coerce', downcast='integer')",
   "id": "c82edbd6f3203e2a",
   "outputs": [
    {
     "name": "stderr",
     "output_type": "stream",
     "text": [
      "C:\\Users\\Kai\\AppData\\Local\\Temp\\ipykernel_20792\\3193295653.py:1: SettingWithCopyWarning: \n",
      "A value is trying to be set on a copy of a slice from a DataFrame.\n",
      "Try using .loc[row_indexer,col_indexer] = value instead\n",
      "\n",
      "See the caveats in the documentation: https://pandas.pydata.org/pandas-docs/stable/user_guide/indexing.html#returning-a-view-versus-a-copy\n",
      "  filtered_df_ComputersAccessories['rating'] = pd.to_numeric(filtered_df_ComputersAccessories['rating'], errors='coerce', downcast='integer')\n"
     ]
    }
   ],
   "execution_count": 98
  },
  {
   "metadata": {},
   "cell_type": "markdown",
   "source": "Find the Average rating of the product categories and convert into df",
   "id": "bde19b12d8159f58"
  },
  {
   "metadata": {
    "ExecuteTime": {
     "end_time": "2024-04-16T05:55:17.303707Z",
     "start_time": "2024-04-16T05:55:17.289307Z"
    }
   },
   "cell_type": "code",
   "source": [
    "comp_result = filtered_df_ComputersAccessories.groupby('category1')['rating'].mean()\n",
    "# Use reset_index to ensure category1 becomes a column instead of a index\n",
    "comp_result_df = comp_result.to_frame().reset_index()\n",
    "comp_result_df.head()"
   ],
   "id": "1e093d29b47d3957",
   "outputs": [
    {
     "data": {
      "text/plain": [
       "                   category1    rating\n",
       "0          BluetoothAdapters  4.300000\n",
       "1  CableConnectionProtectors  4.033333\n",
       "2                    Caddies  4.100000\n",
       "3        CameraPrivacyCovers  4.300000\n",
       "4                      Cases  4.300000"
      ],
      "text/html": [
       "<div>\n",
       "<style scoped>\n",
       "    .dataframe tbody tr th:only-of-type {\n",
       "        vertical-align: middle;\n",
       "    }\n",
       "\n",
       "    .dataframe tbody tr th {\n",
       "        vertical-align: top;\n",
       "    }\n",
       "\n",
       "    .dataframe thead th {\n",
       "        text-align: right;\n",
       "    }\n",
       "</style>\n",
       "<table border=\"1\" class=\"dataframe\">\n",
       "  <thead>\n",
       "    <tr style=\"text-align: right;\">\n",
       "      <th></th>\n",
       "      <th>category1</th>\n",
       "      <th>rating</th>\n",
       "    </tr>\n",
       "  </thead>\n",
       "  <tbody>\n",
       "    <tr>\n",
       "      <th>0</th>\n",
       "      <td>BluetoothAdapters</td>\n",
       "      <td>4.300000</td>\n",
       "    </tr>\n",
       "    <tr>\n",
       "      <th>1</th>\n",
       "      <td>CableConnectionProtectors</td>\n",
       "      <td>4.033333</td>\n",
       "    </tr>\n",
       "    <tr>\n",
       "      <th>2</th>\n",
       "      <td>Caddies</td>\n",
       "      <td>4.100000</td>\n",
       "    </tr>\n",
       "    <tr>\n",
       "      <th>3</th>\n",
       "      <td>CameraPrivacyCovers</td>\n",
       "      <td>4.300000</td>\n",
       "    </tr>\n",
       "    <tr>\n",
       "      <th>4</th>\n",
       "      <td>Cases</td>\n",
       "      <td>4.300000</td>\n",
       "    </tr>\n",
       "  </tbody>\n",
       "</table>\n",
       "</div>"
      ]
     },
     "execution_count": 99,
     "metadata": {},
     "output_type": "execute_result"
    }
   ],
   "execution_count": 99
  },
  {
   "metadata": {
    "ExecuteTime": {
     "end_time": "2024-04-16T05:55:23.020801Z",
     "start_time": "2024-04-16T05:55:22.553386Z"
    }
   },
   "cell_type": "code",
   "source": [
    "print(comp_result_df.columns)\n",
    "comp_result_df.plot(x=\"category1\", y= [\"rating\"],kind='bar', figsize=(20,10))"
   ],
   "id": "9d9c8ead8f6ef7a4",
   "outputs": [
    {
     "name": "stdout",
     "output_type": "stream",
     "text": [
      "Index(['category1', 'rating'], dtype='object')\n"
     ]
    },
    {
     "data": {
      "text/plain": [
       "<Axes: xlabel='category1'>"
      ]
     },
     "execution_count": 102,
     "metadata": {},
     "output_type": "execute_result"
    },
    {
     "data": {
      "text/plain": [
       "<Figure size 2000x1000 with 1 Axes>"
      ],
      "image/png": "[encoded data removed]"
     },
     "metadata": {},
     "output_type": "display_data"
    }
   ],
   "execution_count": 102
  },
  {
   "metadata": {},
   "cell_type": "markdown",
   "source": "Now lets find print the category with the highest rating",
   "id": "cf2c6a43e7f17d13"
  },
  {
   "metadata": {
    "ExecuteTime": {
     "end_time": "2024-04-16T06:00:14.614333Z",
     "start_time": "2024-04-16T06:00:14.609774Z"
    }
   },
   "cell_type": "code",
   "source": "print(comp_result_df[comp_result_df.rating == comp_result_df.rating.max()])",
   "id": "4a2d132a9a269551",
   "outputs": [
    {
     "name": "stdout",
     "output_type": "stream",
     "text": [
      "   category1  rating\n",
      "48   Tablets     4.6\n"
     ]
    }
   ],
   "execution_count": 103
  },
  {
   "metadata": {},
   "cell_type": "markdown",
   "source": "Now we display the table in descending order",
   "id": "edb81772161cee34"
  },
  {
   "metadata": {
    "ExecuteTime": {
     "end_time": "2024-04-16T06:00:56.113648Z",
     "start_time": "2024-04-16T06:00:56.105920Z"
    }
   },
   "cell_type": "code",
   "source": "comp_result_df.sort_values(by=['rating'],ascending=False).head(5)",
   "id": "c34d80f34426b19a",
   "outputs": [
    {
     "data": {
      "text/plain": [
       "           category1  rating\n",
       "48           Tablets     4.6\n",
       "41  PowerLANAdapters     4.5\n",
       "31            Memory     4.5\n",
       "6          DVICables     4.4\n",
       "9     EthernetCables     4.4"
      ],
      "text/html": [
       "<div>\n",
       "<style scoped>\n",
       "    .dataframe tbody tr th:only-of-type {\n",
       "        vertical-align: middle;\n",
       "    }\n",
       "\n",
       "    .dataframe tbody tr th {\n",
       "        vertical-align: top;\n",
       "    }\n",
       "\n",
       "    .dataframe thead th {\n",
       "        text-align: right;\n",
       "    }\n",
       "</style>\n",
       "<table border=\"1\" class=\"dataframe\">\n",
       "  <thead>\n",
       "    <tr style=\"text-align: right;\">\n",
       "      <th></th>\n",
       "      <th>category1</th>\n",
       "      <th>rating</th>\n",
       "    </tr>\n",
       "  </thead>\n",
       "  <tbody>\n",
       "    <tr>\n",
       "      <th>48</th>\n",
       "      <td>Tablets</td>\n",
       "      <td>4.6</td>\n",
       "    </tr>\n",
       "    <tr>\n",
       "      <th>41</th>\n",
       "      <td>PowerLANAdapters</td>\n",
       "      <td>4.5</td>\n",
       "    </tr>\n",
       "    <tr>\n",
       "      <th>31</th>\n",
       "      <td>Memory</td>\n",
       "      <td>4.5</td>\n",
       "    </tr>\n",
       "    <tr>\n",
       "      <th>6</th>\n",
       "      <td>DVICables</td>\n",
       "      <td>4.4</td>\n",
       "    </tr>\n",
       "    <tr>\n",
       "      <th>9</th>\n",
       "      <td>EthernetCables</td>\n",
       "      <td>4.4</td>\n",
       "    </tr>\n",
       "  </tbody>\n",
       "</table>\n",
       "</div>"
      ]
     },
     "execution_count": 104,
     "metadata": {},
     "output_type": "execute_result"
    }
   ],
   "execution_count": 104
  },
  {
   "metadata": {},
   "cell_type": "markdown",
   "source": "Now lets find ",
   "id": "5c140fb253a85fc9"
  }
 ],
 "metadata": {
  "kernelspec": {
   "display_name": "Python 3",
   "language": "python",
   "name": "python3"
  },
  "language_info": {
   "codemirror_mode": {
    "name": "ipython",
    "version": 2
   },
   "file_extension": ".py",
   "mimetype": "text/x-python",
   "name": "python",
   "nbconvert_exporter": "python",
   "pygments_lexer": "ipython2",
   "version": "2.7.6"
  }
 },
 "nbformat": 4,
 "nbformat_minor": 5
}
