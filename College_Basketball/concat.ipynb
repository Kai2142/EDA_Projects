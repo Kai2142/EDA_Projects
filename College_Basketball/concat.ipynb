{
 "cells": [
  {
   "metadata": {},
   "cell_type": "markdown",
   "source": "Import Libraries\n",
   "id": "f53a436879275738"
  },
  {
   "metadata": {
    "ExecuteTime": {
     "end_time": "2024-04-06T14:52:49.998834Z",
     "start_time": "2024-04-06T14:52:49.995815Z"
    }
   },
   "cell_type": "code",
   "source": [
    "import pandas as pd\n",
    "import glob"
   ],
   "id": "35288e731a98d566",
   "outputs": [],
   "execution_count": 17
  },
  {
   "cell_type": "code",
   "id": "initial_id",
   "metadata": {
    "collapsed": true,
    "ExecuteTime": {
     "end_time": "2024-04-06T14:52:50.029394Z",
     "start_time": "2024-04-06T14:52:50.025872Z"
    }
   },
   "source": "file_list = glob.glob('cbb*.csv')",
   "outputs": [],
   "execution_count": 18
  },
  {
   "metadata": {},
   "cell_type": "markdown",
   "source": "Create Concatenate Function\n",
   "id": "2b6d6f3f416eeb8"
  },
  {
   "metadata": {
    "ExecuteTime": {
     "end_time": "2024-04-06T14:52:50.037915Z",
     "start_time": "2024-04-06T14:52:50.033406Z"
    }
   },
   "cell_type": "code",
   "source": [
    "def concatenate_files(file_list):\n",
    "    stor = []\n",
    "    for file in file_list:\n",
    "        year = file[-6:-4]\n",
    "        df = pd.read_csv(file)\n",
    "        df[\"year\"] = '20' + year\n",
    "        stor.append(df)\n",
    "    return pd.concat(stor, ignore_index=True)"
   ],
   "id": "163fb2500784bf27",
   "outputs": [],
   "execution_count": 19
  },
  {
   "metadata": {},
   "cell_type": "markdown",
   "source": "Merge all DF's ",
   "id": "1300f14bbddd54f"
  },
  {
   "metadata": {
    "ExecuteTime": {
     "end_time": "2024-04-06T14:52:50.060274Z",
     "start_time": "2024-04-06T14:52:50.038435Z"
    }
   },
   "cell_type": "code",
   "source": "merged_df = concatenate_files(file_list)",
   "id": "a06bb05b6473b808",
   "outputs": [],
   "execution_count": 20
  },
  {
   "metadata": {},
   "cell_type": "markdown",
   "source": "Save Df as csv",
   "id": "1cdd91b51f3449eb"
  },
  {
   "metadata": {
    "ExecuteTime": {
     "end_time": "2024-04-06T14:52:50.101906Z",
     "start_time": "2024-04-06T14:52:50.061279Z"
    }
   },
   "cell_type": "code",
   "source": "merged_df.to_csv('cbb000.csv', index=False)",
   "id": "560da1bcd7431cf1",
   "outputs": [],
   "execution_count": 21
  },
  {
   "metadata": {},
   "cell_type": "code",
   "outputs": [],
   "execution_count": null,
   "source": "",
   "id": "a78e0cbe81fb0424"
  }
 ],
 "metadata": {
  "kernelspec": {
   "display_name": "Python 3",
   "language": "python",
   "name": "python3"
  },
  "language_info": {
   "codemirror_mode": {
    "name": "ipython",
    "version": 2
   },
   "file_extension": ".py",
   "mimetype": "text/x-python",
   "name": "python",
   "nbconvert_exporter": "python",
   "pygments_lexer": "ipython2",
   "version": "2.7.6"
  }
 },
 "nbformat": 4,
 "nbformat_minor": 5
}
