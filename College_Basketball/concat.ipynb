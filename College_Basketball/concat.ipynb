{
 "cells": [
  {
   "metadata": {},
   "cell_type": "markdown",
   "source": "Import Libraries\n",
   "id": "f53a436879275738"
  },
  {
   "metadata": {
    "ExecuteTime": {
     "end_time": "2024-04-04T13:45:36.589330Z",
     "start_time": "2024-04-04T13:45:36.586331Z"
    }
   },
   "cell_type": "code",
   "source": [
    "import pandas as pd\n",
    "import glob"
   ],
   "id": "35288e731a98d566",
   "outputs": [],
   "execution_count": 23
  },
  {
   "cell_type": "code",
   "id": "initial_id",
   "metadata": {
    "collapsed": true,
    "ExecuteTime": {
     "end_time": "2024-04-04T13:45:36.601593Z",
     "start_time": "2024-04-04T13:45:36.590336Z"
    }
   },
   "source": "file_list = glob.glob('cbb*.csv')",
   "outputs": [],
   "execution_count": 24
  },
  {
   "metadata": {
    "ExecuteTime": {
     "end_time": "2024-04-04T13:45:36.612570Z",
     "start_time": "2024-04-04T13:45:36.601593Z"
    }
   },
   "cell_type": "code",
   "source": "stor = []",
   "id": "6d0904312cc7540f",
   "outputs": [],
   "execution_count": 25
  },
  {
   "metadata": {},
   "cell_type": "markdown",
   "source": "Create Concatenate Function\n",
   "id": "2b6d6f3f416eeb8"
  },
  {
   "metadata": {
    "ExecuteTime": {
     "end_time": "2024-04-04T13:45:36.634145Z",
     "start_time": "2024-04-04T13:45:36.613602Z"
    }
   },
   "cell_type": "code",
   "source": [
    "def concatenate_files(file_list):\n",
    "    for file in file_list:\n",
    "        year = file[3:5]\n",
    "        df = pd.read_csv(file)\n",
    "        df[\"year\"] = '20' + year\n",
    "        stor.append(df)\n",
    "concatenate_files(file_list)"
   ],
   "id": "163fb2500784bf27",
   "outputs": [],
   "execution_count": 26
  },
  {
   "metadata": {},
   "cell_type": "markdown",
   "source": "Merge all DF's ",
   "id": "1300f14bbddd54f"
  },
  {
   "metadata": {
    "ExecuteTime": {
     "end_time": "2024-04-04T13:45:36.638721Z",
     "start_time": "2024-04-04T13:45:36.635151Z"
    }
   },
   "cell_type": "code",
   "source": "merged_df = pd.concat(stor)",
   "id": "a06bb05b6473b808",
   "outputs": [],
   "execution_count": 27
  },
  {
   "metadata": {},
   "cell_type": "markdown",
   "source": "Save Df as csv",
   "id": "1cdd91b51f3449eb"
  },
  {
   "metadata": {
    "ExecuteTime": {
     "end_time": "2024-04-04T13:45:36.690746Z",
     "start_time": "2024-04-04T13:45:36.639726Z"
    }
   },
   "cell_type": "code",
   "source": "merged_df.to_csv('cbb00.csv', index=False)",
   "id": "560da1bcd7431cf1",
   "outputs": [],
   "execution_count": 28
  }
 ],
 "metadata": {
  "kernelspec": {
   "display_name": "Python 3",
   "language": "python",
   "name": "python3"
  },
  "language_info": {
   "codemirror_mode": {
    "name": "ipython",
    "version": 2
   },
   "file_extension": ".py",
   "mimetype": "text/x-python",
   "name": "python",
   "nbconvert_exporter": "python",
   "pygments_lexer": "ipython2",
   "version": "2.7.6"
  }
 },
 "nbformat": 4,
 "nbformat_minor": 5
}
