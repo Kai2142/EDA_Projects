{
 "cells": [
  {
   "cell_type": "markdown",
   "id": "f53a436879275738",
   "metadata": {},
   "source": [
    "Import Libraries\n"
   ]
  },
  {
   "cell_type": "code",
   "execution_count": 17,
   "id": "35288e731a98d566",
   "metadata": {
    "ExecuteTime": {
     "end_time": "2024-04-06T14:52:49.998834Z",
     "start_time": "2024-04-06T14:52:49.995815Z"
    }
   },
   "outputs": [],
   "source": [
    "import pandas as pd\n",
    "import glob"
   ]
  },
  {
   "cell_type": "code",
   "execution_count": 18,
   "id": "initial_id",
   "metadata": {
    "ExecuteTime": {
     "end_time": "2024-04-06T14:52:50.029394Z",
     "start_time": "2024-04-06T14:52:50.025872Z"
    },
    "collapsed": true,
    "jupyter": {
     "outputs_hidden": true
    }
   },
   "outputs": [],
   "source": [
    "file_list = glob.glob('cbb*.csv')"
   ]
  },
  {
   "cell_type": "markdown",
   "id": "2b6d6f3f416eeb8",
   "metadata": {},
   "source": [
    "Create Concatenate Function\n"
   ]
  },
  {
   "cell_type": "code",
   "execution_count": 19,
   "id": "163fb2500784bf27",
   "metadata": {
    "ExecuteTime": {
     "end_time": "2024-04-06T14:52:50.037915Z",
     "start_time": "2024-04-06T14:52:50.033406Z"
    }
   },
   "outputs": [],
   "source": [
    "def concatenate_files(file_list):\n",
    "    stor = []\n",
    "    for file in file_list:\n",
    "        year = file[-6:-4]\n",
    "        df = pd.read_csv(file)\n",
    "        df[\"year\"] = '20' + year\n",
    "        stor.append(df)\n",
    "    return pd.concat(stor, ignore_index=True)"
   ]
  },
  {
   "cell_type": "markdown",
   "id": "1300f14bbddd54f",
   "metadata": {},
   "source": [
    "Merge all DF's "
   ]
  },
  {
   "cell_type": "code",
   "execution_count": 20,
   "id": "a06bb05b6473b808",
   "metadata": {
    "ExecuteTime": {
     "end_time": "2024-04-06T14:52:50.060274Z",
     "start_time": "2024-04-06T14:52:50.038435Z"
    }
   },
   "outputs": [],
   "source": [
    "merged_df = concatenate_files(file_list)"
   ]
  },
  {
   "cell_type": "markdown",
   "id": "1cdd91b51f3449eb",
   "metadata": {},
   "source": [
    "Save Df as csv"
   ]
  },
  {
   "cell_type": "code",
   "execution_count": 21,
   "id": "560da1bcd7431cf1",
   "metadata": {
    "ExecuteTime": {
     "end_time": "2024-04-06T14:52:50.101906Z",
     "start_time": "2024-04-06T14:52:50.061279Z"
    }
   },
   "outputs": [],
   "source": [
    "merged_df.to_csv('cbb000.csv', index=False)"
   ]
  },
  {
   "cell_type": "code",
   "execution_count": 2,
   "id": "a78e0cbe81fb0424",
   "metadata": {},
   "outputs": [
    {
     "name": "stdout",
     "output_type": "stream",
     "text": [
      "[100, 500, 5]\n"
     ]
    }
   ],
   "source": []
  }
 ],
 "metadata": {
  "kernelspec": {
   "display_name": "Python 3 (ipykernel)",
   "language": "python",
   "name": "python3"
  },
  "language_info": {
   "codemirror_mode": {
    "name": "ipython",
    "version": 3
   },
   "file_extension": ".py",
   "mimetype": "text/x-python",
   "name": "python",
   "nbconvert_exporter": "python",
   "pygments_lexer": "ipython3",
   "version": "3.12.2"
  }
 },
 "nbformat": 4,
 "nbformat_minor": 5
}
