{
 "cells": [
  {
   "cell_type": "code",
   "outputs": [],
   "source": [
    "import pandas as pd\n",
    "import glob "
   ],
   "metadata": {
    "collapsed": false,
    "ExecuteTime": {
     "end_time": "2024-04-01T14:27:48.365227Z",
     "start_time": "2024-04-01T14:27:48.361717Z"
    }
   },
   "id": "1380dcfe609e676b",
   "execution_count": 23
  },
  {
   "cell_type": "code",
   "outputs": [],
   "source": [
    "# Define path for tables\n",
    "data_path = r'College Stats'"
   ],
   "metadata": {
    "collapsed": false,
    "ExecuteTime": {
     "end_time": "2024-04-01T14:27:48.374233Z",
     "start_time": "2024-04-01T14:27:48.371232Z"
    }
   },
   "id": "bec74cc228c84c33",
   "execution_count": 24
  },
  {
   "cell_type": "code",
   "outputs": [],
   "source": [
    "# Because the tables are seperated by year, I must combine them for analysis\n",
    "all_files = glob.glob(data_path + \"/*.csv\")"
   ],
   "metadata": {
    "collapsed": false,
    "ExecuteTime": {
     "end_time": "2024-04-01T14:27:48.382582Z",
     "start_time": "2024-04-01T14:27:48.375548Z"
    }
   },
   "id": "355166b50d638b94",
   "execution_count": 25
  },
  {
   "cell_type": "code",
   "outputs": [],
   "source": [
    "# Dataframe Storage\n",
    "dfs = []"
   ],
   "metadata": {
    "collapsed": false,
    "ExecuteTime": {
     "end_time": "2024-04-01T14:27:48.392491Z",
     "start_time": "2024-04-01T14:27:48.382582Z"
    }
   },
   "id": "a52b6f23bbcc348f",
   "execution_count": 26
  },
  {
   "cell_type": "code",
   "outputs": [],
   "source": [
    "# Create a for loop \n",
    "for file in all_files:\n",
    "    df = pd.read_csv(file, index_col=None, header=0)\n",
    "    dfs.append(df)"
   ],
   "metadata": {
    "collapsed": false,
    "ExecuteTime": {
     "end_time": "2024-04-01T14:27:48.437115Z",
     "start_time": "2024-04-01T14:27:48.392491Z"
    }
   },
   "id": "d335329b2f1f353a",
   "execution_count": 27
  },
  {
   "cell_type": "code",
   "outputs": [],
   "source": [
    "# Concatenate all df into one df\n",
    "merged_df = pd.concat(dfs, axis=0, ignore_index=True)"
   ],
   "metadata": {
    "collapsed": false,
    "ExecuteTime": {
     "end_time": "2024-04-01T14:27:48.451153Z",
     "start_time": "2024-04-01T14:27:48.438120Z"
    }
   },
   "id": "da05243db8cc4ad3",
   "execution_count": 28
  },
  {
   "cell_type": "code",
   "outputs": [],
   "source": [
    "merged_df.to_csv('merged.csv', index = False)"
   ],
   "metadata": {
    "collapsed": false,
    "ExecuteTime": {
     "end_time": "2024-04-01T14:27:48.508977Z",
     "start_time": "2024-04-01T14:27:48.452158Z"
    }
   },
   "id": "2662d6f6e6d00326",
   "execution_count": 29
  }
 ],
 "metadata": {
  "kernelspec": {
   "name": "python3",
   "language": "python",
   "display_name": "Python 3 (ipykernel)"
  }
 },
 "nbformat": 4,
 "nbformat_minor": 5
}
