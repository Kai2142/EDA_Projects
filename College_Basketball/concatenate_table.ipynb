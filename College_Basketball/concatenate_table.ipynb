{
 "cells": [
  {
   "cell_type": "code",
   "outputs": [],
   "source": [
    "import pandas as pd"
   ],
   "metadata": {
    "collapsed": false
   },
   "id": "1380dcfe609e676b"
  },
  {
   "cell_type": "code",
   "outputs": [
    {
     "data": {
      "text/plain": "                    TEAM  CONF   G   W  ADJOE  ADJDE  BARTHAG  EFG_O  EFG_D  \\\n0                Indiana   B10  36  29  121.0   89.7   0.9692   54.7   44.0   \n1                Gonzaga   WCC  34  31  118.9   90.2   0.9599   54.9   44.9   \n2                 Kansas   B12  37  31  111.6   86.2   0.9514   53.3   41.5   \n3             Louisville    BE  40  35  115.9   84.5   0.9743   50.6   44.8   \n4             Georgetown    BE  32  25  107.6   85.0   0.9381   51.1   43.0   \n..                   ...   ...  ..  ..    ...    ...      ...    ...    ...   \n342     Prairie View A&M  SWAC  31  12   87.1  103.5   0.1209   41.3   46.9   \n343              Buffalo   MAC  32  12  102.5  103.4   0.4761   50.4   47.2   \n344  Louisiana Lafayette    SB  32  12   98.4  105.3   0.3135   48.6   48.8   \n345      Bethune Cookman  MEAC  32  12   96.0  107.5   0.2134   45.9   51.0   \n346                 Troy    SB  33  12   97.3  107.5   0.2416   45.3   51.0   \n\n      TOR  ...   FTR  FTRD  2P_O  2P_D  3P_O  3P_D  ADJ_T   WAB  POSTSEASON  \\\n0    19.3  ...  45.8  27.0  52.0  43.2  40.3  30.4   67.8   7.8         S16   \n1    17.2  ...  40.8  29.9  55.0  42.1  36.5  32.9   65.1   7.6         R32   \n2    20.3  ...  39.5  32.0  52.9  39.3  36.4  30.3   67.7   7.5         S16   \n3    18.3  ...  40.0  34.9  50.8  43.4  33.3  31.8   67.1   9.0   Champions   \n4    20.1  ...  36.8  35.3  50.2  41.4  35.3  30.7   62.5   6.6         R64   \n..    ...  ...   ...   ...   ...   ...   ...   ...    ...   ...         ...   \n342  21.6  ...  32.6  43.7  42.0  46.9  26.0  31.3   67.0 -15.1         NaN   \n343  23.7  ...  38.5  36.8  50.0  46.1  34.2  33.2   65.4 -13.6         NaN   \n344  19.6  ...  35.1  43.3  46.9  47.2  34.5  34.9   70.2 -13.9         NaN   \n345  18.4  ...  39.0  46.8  45.6  50.9  31.0  34.1   65.9 -15.0         NaN   \n346  16.5  ...  24.5  36.6  44.5  49.5  31.2  35.8   61.1 -16.6         NaN   \n\n     SEED  \n0     1.0  \n1     1.0  \n2     1.0  \n3     1.0  \n4     2.0  \n..    ...  \n342   NaN  \n343   NaN  \n344   NaN  \n345   NaN  \n346   NaN  \n\n[347 rows x 23 columns]",
      "text/html": "<div>\n<style scoped>\n    .dataframe tbody tr th:only-of-type {\n        vertical-align: middle;\n    }\n\n    .dataframe tbody tr th {\n        vertical-align: top;\n    }\n\n    .dataframe thead th {\n        text-align: right;\n    }\n</style>\n<table border=\"1\" class=\"dataframe\">\n  <thead>\n    <tr style=\"text-align: right;\">\n      <th></th>\n      <th>TEAM</th>\n      <th>CONF</th>\n      <th>G</th>\n      <th>W</th>\n      <th>ADJOE</th>\n      <th>ADJDE</th>\n      <th>BARTHAG</th>\n      <th>EFG_O</th>\n      <th>EFG_D</th>\n      <th>TOR</th>\n      <th>...</th>\n      <th>FTR</th>\n      <th>FTRD</th>\n      <th>2P_O</th>\n      <th>2P_D</th>\n      <th>3P_O</th>\n      <th>3P_D</th>\n      <th>ADJ_T</th>\n      <th>WAB</th>\n      <th>POSTSEASON</th>\n      <th>SEED</th>\n    </tr>\n  </thead>\n  <tbody>\n    <tr>\n      <th>0</th>\n      <td>Indiana</td>\n      <td>B10</td>\n      <td>36</td>\n      <td>29</td>\n      <td>121.0</td>\n      <td>89.7</td>\n      <td>0.9692</td>\n      <td>54.7</td>\n      <td>44.0</td>\n      <td>19.3</td>\n      <td>...</td>\n      <td>45.8</td>\n      <td>27.0</td>\n      <td>52.0</td>\n      <td>43.2</td>\n      <td>40.3</td>\n      <td>30.4</td>\n      <td>67.8</td>\n      <td>7.8</td>\n      <td>S16</td>\n      <td>1.0</td>\n    </tr>\n    <tr>\n      <th>1</th>\n      <td>Gonzaga</td>\n      <td>WCC</td>\n      <td>34</td>\n      <td>31</td>\n      <td>118.9</td>\n      <td>90.2</td>\n      <td>0.9599</td>\n      <td>54.9</td>\n      <td>44.9</td>\n      <td>17.2</td>\n      <td>...</td>\n      <td>40.8</td>\n      <td>29.9</td>\n      <td>55.0</td>\n      <td>42.1</td>\n      <td>36.5</td>\n      <td>32.9</td>\n      <td>65.1</td>\n      <td>7.6</td>\n      <td>R32</td>\n      <td>1.0</td>\n    </tr>\n    <tr>\n      <th>2</th>\n      <td>Kansas</td>\n      <td>B12</td>\n      <td>37</td>\n      <td>31</td>\n      <td>111.6</td>\n      <td>86.2</td>\n      <td>0.9514</td>\n      <td>53.3</td>\n      <td>41.5</td>\n      <td>20.3</td>\n      <td>...</td>\n      <td>39.5</td>\n      <td>32.0</td>\n      <td>52.9</td>\n      <td>39.3</td>\n      <td>36.4</td>\n      <td>30.3</td>\n      <td>67.7</td>\n      <td>7.5</td>\n      <td>S16</td>\n      <td>1.0</td>\n    </tr>\n    <tr>\n      <th>3</th>\n      <td>Louisville</td>\n      <td>BE</td>\n      <td>40</td>\n      <td>35</td>\n      <td>115.9</td>\n      <td>84.5</td>\n      <td>0.9743</td>\n      <td>50.6</td>\n      <td>44.8</td>\n      <td>18.3</td>\n      <td>...</td>\n      <td>40.0</td>\n      <td>34.9</td>\n      <td>50.8</td>\n      <td>43.4</td>\n      <td>33.3</td>\n      <td>31.8</td>\n      <td>67.1</td>\n      <td>9.0</td>\n      <td>Champions</td>\n      <td>1.0</td>\n    </tr>\n    <tr>\n      <th>4</th>\n      <td>Georgetown</td>\n      <td>BE</td>\n      <td>32</td>\n      <td>25</td>\n      <td>107.6</td>\n      <td>85.0</td>\n      <td>0.9381</td>\n      <td>51.1</td>\n      <td>43.0</td>\n      <td>20.1</td>\n      <td>...</td>\n      <td>36.8</td>\n      <td>35.3</td>\n      <td>50.2</td>\n      <td>41.4</td>\n      <td>35.3</td>\n      <td>30.7</td>\n      <td>62.5</td>\n      <td>6.6</td>\n      <td>R64</td>\n      <td>2.0</td>\n    </tr>\n    <tr>\n      <th>...</th>\n      <td>...</td>\n      <td>...</td>\n      <td>...</td>\n      <td>...</td>\n      <td>...</td>\n      <td>...</td>\n      <td>...</td>\n      <td>...</td>\n      <td>...</td>\n      <td>...</td>\n      <td>...</td>\n      <td>...</td>\n      <td>...</td>\n      <td>...</td>\n      <td>...</td>\n      <td>...</td>\n      <td>...</td>\n      <td>...</td>\n      <td>...</td>\n      <td>...</td>\n      <td>...</td>\n    </tr>\n    <tr>\n      <th>342</th>\n      <td>Prairie View A&amp;M</td>\n      <td>SWAC</td>\n      <td>31</td>\n      <td>12</td>\n      <td>87.1</td>\n      <td>103.5</td>\n      <td>0.1209</td>\n      <td>41.3</td>\n      <td>46.9</td>\n      <td>21.6</td>\n      <td>...</td>\n      <td>32.6</td>\n      <td>43.7</td>\n      <td>42.0</td>\n      <td>46.9</td>\n      <td>26.0</td>\n      <td>31.3</td>\n      <td>67.0</td>\n      <td>-15.1</td>\n      <td>NaN</td>\n      <td>NaN</td>\n    </tr>\n    <tr>\n      <th>343</th>\n      <td>Buffalo</td>\n      <td>MAC</td>\n      <td>32</td>\n      <td>12</td>\n      <td>102.5</td>\n      <td>103.4</td>\n      <td>0.4761</td>\n      <td>50.4</td>\n      <td>47.2</td>\n      <td>23.7</td>\n      <td>...</td>\n      <td>38.5</td>\n      <td>36.8</td>\n      <td>50.0</td>\n      <td>46.1</td>\n      <td>34.2</td>\n      <td>33.2</td>\n      <td>65.4</td>\n      <td>-13.6</td>\n      <td>NaN</td>\n      <td>NaN</td>\n    </tr>\n    <tr>\n      <th>344</th>\n      <td>Louisiana Lafayette</td>\n      <td>SB</td>\n      <td>32</td>\n      <td>12</td>\n      <td>98.4</td>\n      <td>105.3</td>\n      <td>0.3135</td>\n      <td>48.6</td>\n      <td>48.8</td>\n      <td>19.6</td>\n      <td>...</td>\n      <td>35.1</td>\n      <td>43.3</td>\n      <td>46.9</td>\n      <td>47.2</td>\n      <td>34.5</td>\n      <td>34.9</td>\n      <td>70.2</td>\n      <td>-13.9</td>\n      <td>NaN</td>\n      <td>NaN</td>\n    </tr>\n    <tr>\n      <th>345</th>\n      <td>Bethune Cookman</td>\n      <td>MEAC</td>\n      <td>32</td>\n      <td>12</td>\n      <td>96.0</td>\n      <td>107.5</td>\n      <td>0.2134</td>\n      <td>45.9</td>\n      <td>51.0</td>\n      <td>18.4</td>\n      <td>...</td>\n      <td>39.0</td>\n      <td>46.8</td>\n      <td>45.6</td>\n      <td>50.9</td>\n      <td>31.0</td>\n      <td>34.1</td>\n      <td>65.9</td>\n      <td>-15.0</td>\n      <td>NaN</td>\n      <td>NaN</td>\n    </tr>\n    <tr>\n      <th>346</th>\n      <td>Troy</td>\n      <td>SB</td>\n      <td>33</td>\n      <td>12</td>\n      <td>97.3</td>\n      <td>107.5</td>\n      <td>0.2416</td>\n      <td>45.3</td>\n      <td>51.0</td>\n      <td>16.5</td>\n      <td>...</td>\n      <td>24.5</td>\n      <td>36.6</td>\n      <td>44.5</td>\n      <td>49.5</td>\n      <td>31.2</td>\n      <td>35.8</td>\n      <td>61.1</td>\n      <td>-16.6</td>\n      <td>NaN</td>\n      <td>NaN</td>\n    </tr>\n  </tbody>\n</table>\n<p>347 rows × 23 columns</p>\n</div>"
     },
     "execution_count": 5,
     "metadata": {},
     "output_type": "execute_result"
    }
   ],
   "source": [
    "# Because the tables are seperated by year, I must combine them for analysis\n",
    "pd.concat()"
   ],
   "metadata": {
    "collapsed": false,
    "ExecuteTime": {
     "end_time": "2024-04-01T10:27:14.604773Z",
     "start_time": "2024-04-01T10:27:14.565452Z"
    }
   },
   "id": "355166b50d638b94",
   "execution_count": 5
  }
 ],
 "metadata": {
  "kernelspec": {
   "name": "python3",
   "language": "python",
   "display_name": "Python 3 (ipykernel)"
  }
 },
 "nbformat": 4,
 "nbformat_minor": 5
}
