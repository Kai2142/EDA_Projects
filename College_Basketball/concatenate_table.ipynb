{
 "cells": [
  {
   "cell_type": "code",
   "outputs": [],
   "source": [
    "import pandas as pd\n",
    "import glob\n",
    "import os"
   ],
   "metadata": {
    "collapsed": false,
    "ExecuteTime": {
     "end_time": "2024-04-02T15:44:29.905998Z",
     "start_time": "2024-04-02T15:44:29.902580Z"
    }
   },
   "id": "1380dcfe609e676b",
   "execution_count": 24
  },
  {
   "cell_type": "code",
   "outputs": [],
   "source": [
    "# Define path for tables\n",
    "data_path ='C:/Users/Kai/PycharmProjects/Fitness-EDA/College_Basketball/College Stats'"
   ],
   "metadata": {
    "collapsed": false,
    "ExecuteTime": {
     "end_time": "2024-04-02T15:44:29.916427Z",
     "start_time": "2024-04-02T15:44:29.913513Z"
    }
   },
   "id": "bec74cc228c84c33",
   "execution_count": 25
  },
  {
   "cell_type": "code",
   "outputs": [],
   "source": [
    "# Storage\n",
    "dfs = []\n",
    "\n",
    "for file in os.listdir(data_path):\n",
    "    if file.endswith(\".csv\"):\n",
    "        file_path = os.path.join(data_path, file)\n",
    "        df = pd.read_csv(file_path)\n",
    "        dfs.append(df)"
   ],
   "metadata": {
    "collapsed": false,
    "ExecuteTime": {
     "end_time": "2024-04-02T15:44:29.961788Z",
     "start_time": "2024-04-02T15:44:29.917940Z"
    }
   },
   "id": "237b1107089e6ad",
   "execution_count": 26
  },
  {
   "cell_type": "code",
   "outputs": [],
   "source": [
    "merged_df = pd.concat(dfs, axis=0)"
   ],
   "metadata": {
    "collapsed": false,
    "ExecuteTime": {
     "end_time": "2024-04-02T15:44:29.971516Z",
     "start_time": "2024-04-02T15:44:29.962793Z"
    }
   },
   "id": "e265d64fe8b54390",
   "execution_count": 27
  },
  {
   "cell_type": "code",
   "outputs": [
    {
     "data": {
      "text/plain": "                       TEAM  CONF   G   W  ADJOE  ADJDE  BARTHAG  EFG_O  \\\n0                   Indiana   B10  36  29  121.0   89.7   0.9692   54.7   \n1                   Gonzaga   WCC  34  31  118.9   90.2   0.9599   54.9   \n2                    Kansas   B12  37  31  111.6   86.2   0.9514   53.3   \n3                Louisville    BE  40  35  115.9   84.5   0.9743   50.6   \n4                Georgetown    BE  32  25  107.6   85.0   0.9381   51.1   \n..                      ...   ...  ..  ..    ...    ...      ...    ...   \n357               Stonehill   NEC  30   4   90.3  114.2   0.0629    NaN   \n358          St. Francis PA   NEC  28   8   93.1  118.1   0.0608    NaN   \n359                   IUPUI  Horz  29   6   92.1  116.9   0.0607    NaN   \n360              Coppin St.  MEAC  29   2   85.1  111.1   0.0445    NaN   \n361  Mississippi Valley St.  SWAC  31   1   85.4  116.2   0.0283    NaN   \n\n     EFG_D   TOR  ...  3P_O  3P_D  ADJ_T   WAB  POSTSEASON  SEED     RK  \\\n0     44.0  19.3  ...  40.3  30.4   67.8   7.8         S16   1.0    NaN   \n1     44.9  17.2  ...  36.5  32.9   65.1   7.6         R32   1.0    NaN   \n2     41.5  20.3  ...  36.4  30.3   67.7   7.5         S16   1.0    NaN   \n3     44.8  18.3  ...  33.3  31.8   67.1   9.0   Champions   1.0    NaN   \n4     43.0  20.1  ...  35.3  30.7   62.5   6.6         R64   2.0    NaN   \n..     ...   ...  ...   ...   ...    ...   ...         ...   ...    ...   \n357    NaN  19.5  ...  30.1  35.9   68.1 -22.0         NaN   NaN  358.0   \n358    NaN  21.2  ...  33.2  35.4   65.4 -18.6         NaN   NaN  359.0   \n359    NaN  21.3  ...  24.7  38.0   67.3 -21.6         NaN   NaN  360.0   \n360    NaN  22.9  ...  28.3  34.5   66.3 -22.9         NaN   NaN  361.0   \n361    NaN  24.0  ...  29.2  37.0   64.5 -22.7         NaN   NaN  362.0   \n\n     EFGD_D  EFG%  EFGD%  \n0       NaN   NaN    NaN  \n1       NaN   NaN    NaN  \n2       NaN   NaN    NaN  \n3       NaN   NaN    NaN  \n4       NaN   NaN    NaN  \n..      ...   ...    ...  \n357     NaN  46.7   52.7  \n358     NaN  47.2   53.0  \n359     NaN  46.5   58.2  \n360     NaN  42.1   51.3  \n361     NaN  42.5   55.6  \n\n[4238 rows x 27 columns]",
      "text/html": "<div>\n<style scoped>\n    .dataframe tbody tr th:only-of-type {\n        vertical-align: middle;\n    }\n\n    .dataframe tbody tr th {\n        vertical-align: top;\n    }\n\n    .dataframe thead th {\n        text-align: right;\n    }\n</style>\n<table border=\"1\" class=\"dataframe\">\n  <thead>\n    <tr style=\"text-align: right;\">\n      <th></th>\n      <th>TEAM</th>\n      <th>CONF</th>\n      <th>G</th>\n      <th>W</th>\n      <th>ADJOE</th>\n      <th>ADJDE</th>\n      <th>BARTHAG</th>\n      <th>EFG_O</th>\n      <th>EFG_D</th>\n      <th>TOR</th>\n      <th>...</th>\n      <th>3P_O</th>\n      <th>3P_D</th>\n      <th>ADJ_T</th>\n      <th>WAB</th>\n      <th>POSTSEASON</th>\n      <th>SEED</th>\n      <th>RK</th>\n      <th>EFGD_D</th>\n      <th>EFG%</th>\n      <th>EFGD%</th>\n    </tr>\n  </thead>\n  <tbody>\n    <tr>\n      <th>0</th>\n      <td>Indiana</td>\n      <td>B10</td>\n      <td>36</td>\n      <td>29</td>\n      <td>121.0</td>\n      <td>89.7</td>\n      <td>0.9692</td>\n      <td>54.7</td>\n      <td>44.0</td>\n      <td>19.3</td>\n      <td>...</td>\n      <td>40.3</td>\n      <td>30.4</td>\n      <td>67.8</td>\n      <td>7.8</td>\n      <td>S16</td>\n      <td>1.0</td>\n      <td>NaN</td>\n      <td>NaN</td>\n      <td>NaN</td>\n      <td>NaN</td>\n    </tr>\n    <tr>\n      <th>1</th>\n      <td>Gonzaga</td>\n      <td>WCC</td>\n      <td>34</td>\n      <td>31</td>\n      <td>118.9</td>\n      <td>90.2</td>\n      <td>0.9599</td>\n      <td>54.9</td>\n      <td>44.9</td>\n      <td>17.2</td>\n      <td>...</td>\n      <td>36.5</td>\n      <td>32.9</td>\n      <td>65.1</td>\n      <td>7.6</td>\n      <td>R32</td>\n      <td>1.0</td>\n      <td>NaN</td>\n      <td>NaN</td>\n      <td>NaN</td>\n      <td>NaN</td>\n    </tr>\n    <tr>\n      <th>2</th>\n      <td>Kansas</td>\n      <td>B12</td>\n      <td>37</td>\n      <td>31</td>\n      <td>111.6</td>\n      <td>86.2</td>\n      <td>0.9514</td>\n      <td>53.3</td>\n      <td>41.5</td>\n      <td>20.3</td>\n      <td>...</td>\n      <td>36.4</td>\n      <td>30.3</td>\n      <td>67.7</td>\n      <td>7.5</td>\n      <td>S16</td>\n      <td>1.0</td>\n      <td>NaN</td>\n      <td>NaN</td>\n      <td>NaN</td>\n      <td>NaN</td>\n    </tr>\n    <tr>\n      <th>3</th>\n      <td>Louisville</td>\n      <td>BE</td>\n      <td>40</td>\n      <td>35</td>\n      <td>115.9</td>\n      <td>84.5</td>\n      <td>0.9743</td>\n      <td>50.6</td>\n      <td>44.8</td>\n      <td>18.3</td>\n      <td>...</td>\n      <td>33.3</td>\n      <td>31.8</td>\n      <td>67.1</td>\n      <td>9.0</td>\n      <td>Champions</td>\n      <td>1.0</td>\n      <td>NaN</td>\n      <td>NaN</td>\n      <td>NaN</td>\n      <td>NaN</td>\n    </tr>\n    <tr>\n      <th>4</th>\n      <td>Georgetown</td>\n      <td>BE</td>\n      <td>32</td>\n      <td>25</td>\n      <td>107.6</td>\n      <td>85.0</td>\n      <td>0.9381</td>\n      <td>51.1</td>\n      <td>43.0</td>\n      <td>20.1</td>\n      <td>...</td>\n      <td>35.3</td>\n      <td>30.7</td>\n      <td>62.5</td>\n      <td>6.6</td>\n      <td>R64</td>\n      <td>2.0</td>\n      <td>NaN</td>\n      <td>NaN</td>\n      <td>NaN</td>\n      <td>NaN</td>\n    </tr>\n    <tr>\n      <th>...</th>\n      <td>...</td>\n      <td>...</td>\n      <td>...</td>\n      <td>...</td>\n      <td>...</td>\n      <td>...</td>\n      <td>...</td>\n      <td>...</td>\n      <td>...</td>\n      <td>...</td>\n      <td>...</td>\n      <td>...</td>\n      <td>...</td>\n      <td>...</td>\n      <td>...</td>\n      <td>...</td>\n      <td>...</td>\n      <td>...</td>\n      <td>...</td>\n      <td>...</td>\n      <td>...</td>\n    </tr>\n    <tr>\n      <th>357</th>\n      <td>Stonehill</td>\n      <td>NEC</td>\n      <td>30</td>\n      <td>4</td>\n      <td>90.3</td>\n      <td>114.2</td>\n      <td>0.0629</td>\n      <td>NaN</td>\n      <td>NaN</td>\n      <td>19.5</td>\n      <td>...</td>\n      <td>30.1</td>\n      <td>35.9</td>\n      <td>68.1</td>\n      <td>-22.0</td>\n      <td>NaN</td>\n      <td>NaN</td>\n      <td>358.0</td>\n      <td>NaN</td>\n      <td>46.7</td>\n      <td>52.7</td>\n    </tr>\n    <tr>\n      <th>358</th>\n      <td>St. Francis PA</td>\n      <td>NEC</td>\n      <td>28</td>\n      <td>8</td>\n      <td>93.1</td>\n      <td>118.1</td>\n      <td>0.0608</td>\n      <td>NaN</td>\n      <td>NaN</td>\n      <td>21.2</td>\n      <td>...</td>\n      <td>33.2</td>\n      <td>35.4</td>\n      <td>65.4</td>\n      <td>-18.6</td>\n      <td>NaN</td>\n      <td>NaN</td>\n      <td>359.0</td>\n      <td>NaN</td>\n      <td>47.2</td>\n      <td>53.0</td>\n    </tr>\n    <tr>\n      <th>359</th>\n      <td>IUPUI</td>\n      <td>Horz</td>\n      <td>29</td>\n      <td>6</td>\n      <td>92.1</td>\n      <td>116.9</td>\n      <td>0.0607</td>\n      <td>NaN</td>\n      <td>NaN</td>\n      <td>21.3</td>\n      <td>...</td>\n      <td>24.7</td>\n      <td>38.0</td>\n      <td>67.3</td>\n      <td>-21.6</td>\n      <td>NaN</td>\n      <td>NaN</td>\n      <td>360.0</td>\n      <td>NaN</td>\n      <td>46.5</td>\n      <td>58.2</td>\n    </tr>\n    <tr>\n      <th>360</th>\n      <td>Coppin St.</td>\n      <td>MEAC</td>\n      <td>29</td>\n      <td>2</td>\n      <td>85.1</td>\n      <td>111.1</td>\n      <td>0.0445</td>\n      <td>NaN</td>\n      <td>NaN</td>\n      <td>22.9</td>\n      <td>...</td>\n      <td>28.3</td>\n      <td>34.5</td>\n      <td>66.3</td>\n      <td>-22.9</td>\n      <td>NaN</td>\n      <td>NaN</td>\n      <td>361.0</td>\n      <td>NaN</td>\n      <td>42.1</td>\n      <td>51.3</td>\n    </tr>\n    <tr>\n      <th>361</th>\n      <td>Mississippi Valley St.</td>\n      <td>SWAC</td>\n      <td>31</td>\n      <td>1</td>\n      <td>85.4</td>\n      <td>116.2</td>\n      <td>0.0283</td>\n      <td>NaN</td>\n      <td>NaN</td>\n      <td>24.0</td>\n      <td>...</td>\n      <td>29.2</td>\n      <td>37.0</td>\n      <td>64.5</td>\n      <td>-22.7</td>\n      <td>NaN</td>\n      <td>NaN</td>\n      <td>362.0</td>\n      <td>NaN</td>\n      <td>42.5</td>\n      <td>55.6</td>\n    </tr>\n  </tbody>\n</table>\n<p>4238 rows × 27 columns</p>\n</div>"
     },
     "execution_count": 29,
     "metadata": {},
     "output_type": "execute_result"
    }
   ],
   "source": [
    "merged_df"
   ],
   "metadata": {
    "collapsed": false,
    "ExecuteTime": {
     "end_time": "2024-04-02T15:48:34.370009Z",
     "start_time": "2024-04-02T15:48:34.345998Z"
    }
   },
   "id": "802cdc45dad757cd",
   "execution_count": 29
  }
 ],
 "metadata": {
  "kernelspec": {
   "name": "python3",
   "language": "python",
   "display_name": "Python 3 (ipykernel)"
  }
 },
 "nbformat": 4,
 "nbformat_minor": 5
}
