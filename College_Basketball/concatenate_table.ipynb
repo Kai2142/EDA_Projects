{
 "cells": [
  {
   "cell_type": "code",
   "outputs": [],
   "source": [
    "import pandas as pd\n"
   ],
   "metadata": {
    "collapsed": false,
    "ExecuteTime": {
     "end_time": "2024-04-01T14:27:48.365227Z",
     "start_time": "2024-04-01T14:27:48.361717Z"
    }
   },
   "id": "1380dcfe609e676b",
   "execution_count": 23
  },
  {
   "cell_type": "code",
   "outputs": [],
   "source": [
    "# Define path for tables\n",
    "data_path = r'College Stats'"
   ],
   "metadata": {
    "collapsed": false,
    "ExecuteTime": {
     "end_time": "2024-04-01T14:27:48.374233Z",
     "start_time": "2024-04-01T14:27:48.371232Z"
    }
   },
   "id": "bec74cc228c84c33",
   "execution_count": 24
  }
 ],
 "metadata": {
  "kernelspec": {
   "name": "python3",
   "language": "python",
   "display_name": "Python 3 (ipykernel)"
  }
 },
 "nbformat": 4,
 "nbformat_minor": 5
}
